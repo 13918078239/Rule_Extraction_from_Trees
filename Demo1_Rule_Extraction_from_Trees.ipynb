{
 "cells": [
  {
   "cell_type": "code",
   "execution_count": 1,
   "metadata": {
    "collapsed": true
   },
   "outputs": [],
   "source": [
    "import pandas as pd\n",
    "import numpy as np\n",
    "from sklearn.model_selection import train_test_split\n",
    "from sklearn import tree,ensemble,metrics\n",
    "\n",
    "from rule import Rule\n",
    "from rule_extraction import rule_extract,draw_tree,rules_vote"
   ]
  },
  {
   "cell_type": "markdown",
   "metadata": {},
   "source": [
    "##  1. Data Preparation"
   ]
  },
  {
   "cell_type": "code",
   "execution_count": 2,
   "metadata": {},
   "outputs": [
    {
     "name": "stdout",
     "output_type": "stream",
     "text": [
      "(571, 5) (143, 5)\n",
      "      Age     Fare     Sex  Pclass  Survived\n",
      "387  36.0  13.0000  female       2         1\n",
      "685  25.0  41.5792    male       2         0\n",
      "20   35.0  26.0000    male       2         0\n",
      "331  45.5  28.5000    male       1         0\n",
      "396  31.0   7.8542  female       3         0\n"
     ]
    }
   ],
   "source": [
    "# fetch dataset\n",
    "data = pd.read_csv('./dataset/titanic.csv', usecols = ['Age', 'Fare','Sex','Pclass','Survived'])\n",
    "\n",
    "# drop NA records since most Tree algorithm cannot handle\n",
    "data.dropna(inplace=True)\n",
    "\n",
    "# split training/test sets\n",
    "X_train, X_test, y_train, y_test = train_test_split(data[['Age', 'Fare','Sex','Pclass','Survived']], \n",
    "                                                    data.Survived, test_size=0.2, random_state=0)\n",
    "\n",
    "# dataset shape\n",
    "print(X_train.shape, X_test.shape)\n",
    "print(X_train.head(5))"
   ]
  },
  {
   "cell_type": "markdown",
   "metadata": {},
   "source": [
    "## 2. Categorical Variable encoding using Mean Encoding"
   ]
  },
  {
   "cell_type": "code",
   "execution_count": 3,
   "metadata": {
    "collapsed": true
   },
   "outputs": [],
   "source": [
    "# Pclass\n",
    "X_train.groupby(['Pclass'])['Survived'].mean()\n",
    "ordered_labels = X_train.groupby(['Pclass'])['Survived'].mean().to_dict()\n",
    "ordered_labels\n",
    "\n",
    "# Mean Encoding\n",
    "X_train['Pclass_ordered'] = X_train.Pclass.map(ordered_labels)\n",
    "X_test['Pclass_ordered'] = X_test.Pclass.map(ordered_labels)\n",
    "\n",
    "# Sex\n",
    "X_train.groupby(['Sex'])['Survived'].mean()\n",
    "ordered_labels = X_train.groupby(['Sex'])['Survived'].mean().to_dict()\n",
    "ordered_labels\n",
    "\n",
    "# Mean Encoding\n",
    "X_train['Sex_ordered'] = X_train.Sex.map(ordered_labels)\n",
    "X_test['Sex_ordered'] = X_test.Sex.map(ordered_labels)\n"
   ]
  },
  {
   "cell_type": "markdown",
   "metadata": {},
   "source": [
    "## 3. Final training data"
   ]
  },
  {
   "cell_type": "code",
   "execution_count": 4,
   "metadata": {},
   "outputs": [
    {
     "name": "stdout",
     "output_type": "stream",
     "text": [
      "      Age     Fare  Sex_ordered  Pclass_ordered\n",
      "387  36.0  13.0000     0.740196        0.460432\n",
      "685  25.0  41.5792     0.204360        0.460432\n",
      "20   35.0  26.0000     0.204360        0.460432\n",
      "331  45.5  28.5000     0.204360        0.652482\n",
      "396  31.0   7.8542     0.740196        0.240550\n"
     ]
    }
   ],
   "source": [
    "X_train_proceeded = X_train[['Age', 'Fare','Sex_ordered','Pclass_ordered']]\n",
    "X_test_proceeded = X_test[['Age', 'Fare','Sex_ordered','Pclass_ordered']]\n",
    "print(X_train_proceeded.head())"
   ]
  },
  {
   "cell_type": "markdown",
   "metadata": {},
   "source": [
    "## 4. Training a Single Decision Tree"
   ]
  },
  {
   "cell_type": "code",
   "execution_count": 5,
   "metadata": {},
   "outputs": [
    {
     "data": {
      "text/plain": [
       "DecisionTreeClassifier(class_weight=None, criterion='gini', max_depth=3,\n",
       "            max_features=None, max_leaf_nodes=None,\n",
       "            min_impurity_decrease=0.0, min_impurity_split=None,\n",
       "            min_samples_leaf=1, min_samples_split=2,\n",
       "            min_weight_fraction_leaf=0.0, presort=False, random_state=None,\n",
       "            splitter='best')"
      ]
     },
     "execution_count": 5,
     "metadata": {},
     "output_type": "execute_result"
    }
   ],
   "source": [
    "# API refer to http://scikit-learn.org/stable/modules/generated/sklearn.tree.DecisionTreeClassifier.html\n",
    "\n",
    "model_tree_clf = tree.DecisionTreeClassifier(criterion='gini',max_depth=3)\n",
    "model_tree_clf.fit(X_train_proceeded,y_train)"
   ]
  },
  {
   "cell_type": "code",
   "execution_count": 6,
   "metadata": {},
   "outputs": [
    {
     "name": "stdout",
     "output_type": "stream",
     "text": [
      "[[311  34]\n",
      " [ 67 159]]\n"
     ]
    }
   ],
   "source": [
    "# model performance on training set\n",
    "y_pred = model_tree_clf.predict(X_train_proceeded)\n",
    "print(metrics.confusion_matrix(y_train,y_pred))"
   ]
  },
  {
   "cell_type": "markdown",
   "metadata": {},
   "source": [
    "##  4.1 Extract all rules without filtering\n",
    "8 rules in total, corresponding to 8 paths from root to leaf node"
   ]
  },
  {
   "cell_type": "code",
   "execution_count": 7,
   "metadata": {},
   "outputs": [
    {
     "name": "stdout",
     "output_type": "stream",
     "text": [
      "Sex_ordered > 0.4722778648138046 and Pclass_ordered > 0.3504907488822937 and Fare > 26.125\n",
      "Sex_ordered <= 0.4722778648138046 and Age > 13.0 and Pclass_ordered <= 0.5564569681882858\n",
      "Sex_ordered <= 0.4722778648138046 and Age <= 13.0 and Pclass_ordered <= 0.3504907488822937\n",
      "Sex_ordered > 0.4722778648138046 and Pclass_ordered <= 0.3504907488822937 and Fare <= 20.800000190734863\n",
      "Sex_ordered <= 0.4722778648138046 and Age > 13.0 and Pclass_ordered > 0.5564569681882858\n",
      "Sex_ordered <= 0.4722778648138046 and Age <= 13.0 and Pclass_ordered > 0.3504907488822937\n",
      "Sex_ordered > 0.4722778648138046 and Pclass_ordered > 0.3504907488822937 and Fare <= 26.125\n",
      "Sex_ordered > 0.4722778648138046 and Pclass_ordered <= 0.3504907488822937 and Fare > 20.800000190734863\n"
     ]
    }
   ],
   "source": [
    "rule, _ = rule_extract(model=model_tree_clf,feature_names=X_train_proceeded.columns)\n",
    "for i in rule:\n",
    "    print(i)"
   ]
  },
  {
   "cell_type": "markdown",
   "metadata": {},
   "source": [
    "## 4.2 Output the tree sturcture\n",
    "compared with the confusion matrix on training data:\n",
    "\n",
    " | pred=0 | pred=1\n",
    "- | :-: | -: \n",
    "true=0 | 311 | 34\n",
    "true=1|  67 |  159\n",
    "\n",
    "the graph's result match perfectly"
   ]
  },
  {
   "cell_type": "code",
   "execution_count": 8,
   "metadata": {
    "collapsed": true
   },
   "outputs": [],
   "source": [
    "# blue node (class=1) denote the node make prediction of class 1\n",
    "# orange node (class=0) denote the node make prediction of class 0\n",
    "#  the darker the color, the more purity the node has \n",
    "# values refer to the absolute number of labeled samples in that node\n",
    "# eg, the 1st leaf node [12,7] means that 12 class 0 samples and 7 class 1 samples are in that node\n",
    "draw_tree(model=model_tree_clf,\n",
    "          outdir='./images/DecisionTree/',\n",
    "          feature_names=X_train_proceeded.columns,\n",
    "          proportion=False,\n",
    "          class_names=['0','1'])"
   ]
  },
  {
   "cell_type": "markdown",
   "metadata": {},
   "source": [
    "![title](images/DecisionTree/DecisionTree.jpeg) "
   ]
  },
  {
   "cell_type": "markdown",
   "metadata": {},
   "source": [
    "##  5. Extract rule with filtering\n",
    "rule_dict:  rule, recall on 1-class, prec on 1-class, recall on 0-class, prec on 0-class, nb\n"
   ]
  },
  {
   "cell_type": "code",
   "execution_count": 9,
   "metadata": {},
   "outputs": [
    {
     "name": "stdout",
     "output_type": "stream",
     "text": [
      "('Fare > 26.125 and Pclass_ordered > 0.3504907488822937 and Sex_ordered > 0.4722778648138046', (0.328125, 0.9130434782608695, 0.9746835443037974, 0.6416666666666667, 1))\n",
      "('Fare <= 26.125 and Pclass_ordered > 0.3504907488822937 and Sex_ordered > 0.4722778648138046', (0.21875, 0.875, 0.9746835443037974, 0.6062992125984252, 1))\n"
     ]
    }
   ],
   "source": [
    "# filter rule\n",
    "rules, rule_dict = rule_extract(model=model_tree_clf,\n",
    "                                 feature_names=X_train_proceeded.columns,\n",
    "                                 x_test=X_test_proceeded,\n",
    "                                 y_test=y_test,\n",
    "                                 sort_key=0,\n",
    "                                 recall_min_c1=0.,\n",
    "                                 precision_min_c1=0.,\n",
    "                                 recall_min_c0=0.9,\n",
    "                                 precision_min_c0=0.6)\n",
    "for i in rule_dict:\n",
    "    print(i)"
   ]
  },
  {
   "cell_type": "markdown",
   "metadata": {},
   "source": [
    "### 5.1 Random Forest"
   ]
  },
  {
   "cell_type": "code",
   "execution_count": 10,
   "metadata": {},
   "outputs": [
    {
     "data": {
      "text/plain": [
       "RandomForestClassifier(bootstrap=True, class_weight=None, criterion='gini',\n",
       "            max_depth=3, max_features='auto', max_leaf_nodes=None,\n",
       "            min_impurity_decrease=0.0, min_impurity_split=None,\n",
       "            min_samples_leaf=1, min_samples_split=2,\n",
       "            min_weight_fraction_leaf=0.0, n_estimators=3, n_jobs=None,\n",
       "            oob_score=False, random_state=9, verbose=0, warm_start=False)"
      ]
     },
     "execution_count": 10,
     "metadata": {},
     "output_type": "execute_result"
    }
   ],
   "source": [
    "model_RF_clf = ensemble.RandomForestClassifier(max_depth=3,n_estimators=3,random_state=9)\n",
    "model_RF_clf.fit(X_train_proceeded,y_train)"
   ]
  },
  {
   "cell_type": "code",
   "execution_count": 11,
   "metadata": {},
   "outputs": [
    {
     "name": "stdout",
     "output_type": "stream",
     "text": [
      "[[72  7]\n",
      " [23 41]]\n"
     ]
    }
   ],
   "source": [
    "# model performance on test set\n",
    "y_pred_test = model_RF_clf.predict(X_test_proceeded)\n",
    "print(metrics.confusion_matrix(y_test,y_pred_test))"
   ]
  },
  {
   "cell_type": "code",
   "execution_count": 12,
   "metadata": {},
   "outputs": [
    {
     "name": "stdout",
     "output_type": "stream",
     "text": [
      "Fare > 15.64585018157959 and Age > 53.5 and Fare > 133.36874771118164\n",
      "Fare <= 15.64585018157959 and Sex_ordered <= 0.4722778648138046 and Pclass_ordered > 0.3504907488822937\n",
      "Fare > 15.64585018157959 and Age > 53.5 and Fare <= 133.36874771118164\n",
      "Fare <= 15.64585018157959 and Sex_ordered > 0.4722778648138046 and Fare > 10.481249809265137\n",
      "Fare > 15.64585018157959 and Age <= 53.5 and Pclass_ordered <= 0.3504907488822937\n",
      "Fare <= 15.64585018157959 and Sex_ordered > 0.4722778648138046 and Fare <= 10.481249809265137\n",
      "Fare <= 15.64585018157959 and Sex_ordered <= 0.4722778648138046 and Pclass_ordered <= 0.3504907488822937\n",
      "Fare > 15.64585018157959 and Age <= 53.5 and Pclass_ordered > 0.3504907488822937\n",
      "Pclass_ordered > 0.3504907488822937 and Age > 17.5 and Sex_ordered > 0.4722778648138046\n",
      "Pclass_ordered <= 0.3504907488822937 and Sex_ordered <= 0.4722778648138046 and Age <= 9.5\n",
      "Pclass_ordered > 0.3504907488822937 and Age <= 17.5\n",
      "Pclass_ordered <= 0.3504907488822937 and Sex_ordered > 0.4722778648138046 and Fare > 13.464600086212158\n",
      "Pclass_ordered <= 0.3504907488822937 and Sex_ordered > 0.4722778648138046 and Fare <= 13.464600086212158\n",
      "Pclass_ordered <= 0.3504907488822937 and Sex_ordered <= 0.4722778648138046 and Age > 9.5\n",
      "Pclass_ordered > 0.3504907488822937 and Age > 17.5 and Sex_ordered <= 0.4722778648138046\n",
      "Pclass_ordered > 0.3504907488822937 and Age <= 17.5 and Fare <= 12.5\n",
      "Pclass_ordered > 0.3504907488822937 and Age > 17.5 and Sex_ordered > 0.4722778648138046\n",
      "Pclass_ordered <= 0.3504907488822937 and Sex_ordered > 0.4722778648138046 and Fare > 13.466650009155273\n",
      "Pclass_ordered <= 0.3504907488822937 and Sex_ordered <= 0.4722778648138046 and Fare > 7.012500047683716\n",
      "Pclass_ordered <= 0.3504907488822937 and Sex_ordered <= 0.4722778648138046 and Fare <= 7.012500047683716\n",
      "Pclass_ordered <= 0.3504907488822937 and Sex_ordered > 0.4722778648138046 and Fare <= 13.466650009155273\n",
      "Pclass_ordered > 0.3504907488822937 and Age <= 17.5 and Fare > 12.5\n",
      "Pclass_ordered > 0.3504907488822937 and Age > 17.5 and Sex_ordered <= 0.4722778648138046\n"
     ]
    }
   ],
   "source": [
    "rules,_ = rule_extract(model=model_RF_clf,feature_names=X_train_proceeded.columns)\n",
    "for i in rules:\n",
    "    print(i)"
   ]
  },
  {
   "cell_type": "markdown",
   "metadata": {},
   "source": [
    "### 5.2 Output the tree sturcture"
   ]
  },
  {
   "cell_type": "code",
   "execution_count": 13,
   "metadata": {
    "collapsed": true
   },
   "outputs": [],
   "source": [
    "draw_tree(model=model_RF_clf,\n",
    "          outdir='./images/RandomForest/',\n",
    "          feature_names=X_train_proceeded.columns,\n",
    "          proportion=False,\n",
    "          class_names=['0','1'])"
   ]
  },
  {
   "cell_type": "markdown",
   "metadata": {},
   "source": [
    "### Tree 1\n",
    "![title](images/RandomForest/EnsembleTrees_No1.jpeg) "
   ]
  },
  {
   "cell_type": "markdown",
   "metadata": {},
   "source": [
    "### Tree2\n",
    "![title](images/RandomForest/EnsembleTrees_No2.jpeg) "
   ]
  },
  {
   "cell_type": "markdown",
   "metadata": {},
   "source": [
    "### Tree3\n",
    "![title](images/RandomForest/EnsembleTrees_No3.jpeg) "
   ]
  },
  {
   "cell_type": "markdown",
   "metadata": {},
   "source": [
    "### 5.3 BaggingClassifier"
   ]
  },
  {
   "cell_type": "code",
   "execution_count": 14,
   "metadata": {},
   "outputs": [
    {
     "data": {
      "text/plain": [
       "BaggingClassifier(base_estimator=DecisionTreeClassifier(class_weight=None, criterion='gini', max_depth=3,\n",
       "            max_features=None, max_leaf_nodes=None,\n",
       "            min_impurity_decrease=0.0, min_impurity_split=None,\n",
       "            min_samples_leaf=1, min_samples_split=2,\n",
       "            min_weight_fraction_leaf=0.0, presort=False, random_state=None,\n",
       "            splitter='best'),\n",
       "         bootstrap=True, bootstrap_features=False, max_features=1.0,\n",
       "         max_samples=1.0, n_estimators=2, n_jobs=-1, oob_score=False,\n",
       "         random_state=0, verbose=0, warm_start=False)"
      ]
     },
     "execution_count": 14,
     "metadata": {},
     "output_type": "execute_result"
    }
   ],
   "source": [
    "model_bagging_clf = ensemble.BaggingClassifier(\n",
    "                base_estimator=tree.DecisionTreeClassifier(max_depth=3),\n",
    "                n_estimators=2,\n",
    "                n_jobs=-1,\n",
    "                random_state=0)\n",
    "model_bagging_clf.fit(X_train_proceeded,y_train)"
   ]
  },
  {
   "cell_type": "code",
   "execution_count": 15,
   "metadata": {},
   "outputs": [
    {
     "name": "stdout",
     "output_type": "stream",
     "text": [
      "[[75  4]\n",
      " [27 37]]\n"
     ]
    }
   ],
   "source": [
    "# model performance on test set\n",
    "y_pred_test = model_bagging_clf.predict(X_test_proceeded)\n",
    "print(metrics.confusion_matrix(y_test,y_pred_test))"
   ]
  },
  {
   "cell_type": "code",
   "execution_count": 16,
   "metadata": {},
   "outputs": [
    {
     "name": "stdout",
     "output_type": "stream",
     "text": [
      "Sex_ordered <= 0.4722778648138046 and Fare <= 56.19790077209473 and Age <= 9.5\n",
      "Sex_ordered > 0.4722778648138046 and Pclass_ordered > 0.3504907488822937 and Fare > 22.0\n",
      "Sex_ordered > 0.4722778648138046 and Pclass_ordered <= 0.3504907488822937 and Age > 35.0\n",
      "Sex_ordered <= 0.4722778648138046 and Fare > 56.19790077209473 and Fare > 59.08749961853027\n",
      "Sex_ordered <= 0.4722778648138046 and Fare > 56.19790077209473 and Fare <= 59.08749961853027\n",
      "Sex_ordered <= 0.4722778648138046 and Fare <= 56.19790077209473 and Age > 9.5\n",
      "Sex_ordered > 0.4722778648138046 and Pclass_ordered > 0.3504907488822937 and Fare <= 22.0\n",
      "Sex_ordered > 0.4722778648138046 and Pclass_ordered <= 0.3504907488822937 and Age <= 35.0\n",
      "Sex_ordered <= 0.4722778648138046 and Age <= 5.5 and Pclass_ordered <= 0.3504907488822937\n",
      "Sex_ordered <= 0.4722778648138046 and Age > 5.5 and Pclass_ordered > 0.5564569681882858\n",
      "Sex_ordered > 0.4722778648138046 and Pclass_ordered > 0.3504907488822937 and Fare > 13.75\n",
      "Sex_ordered <= 0.4722778648138046 and Age > 5.5 and Pclass_ordered <= 0.5564569681882858\n",
      "Sex_ordered > 0.4722778648138046 and Pclass_ordered > 0.3504907488822937 and Fare <= 13.75\n",
      "Sex_ordered > 0.4722778648138046 and Pclass_ordered <= 0.3504907488822937 and Fare <= 20.800000190734863\n",
      "Sex_ordered > 0.4722778648138046 and Pclass_ordered <= 0.3504907488822937 and Fare > 20.800000190734863\n",
      "Sex_ordered <= 0.4722778648138046 and Age <= 5.5 and Pclass_ordered > 0.3504907488822937\n"
     ]
    }
   ],
   "source": [
    "rules,_ = rule_extract(model=model_bagging_clf,feature_names=X_train_proceeded.columns)\n",
    "for i in rules:\n",
    "    print(i)"
   ]
  },
  {
   "cell_type": "markdown",
   "metadata": {},
   "source": [
    "### 5.4 ExtraTree "
   ]
  },
  {
   "cell_type": "code",
   "execution_count": 17,
   "metadata": {},
   "outputs": [
    {
     "data": {
      "text/plain": [
       "ExtraTreesClassifier(bootstrap=False, class_weight=None, criterion='gini',\n",
       "           max_depth=3, max_features='auto', max_leaf_nodes=None,\n",
       "           min_impurity_decrease=0.0, min_impurity_split=None,\n",
       "           min_samples_leaf=1, min_samples_split=2,\n",
       "           min_weight_fraction_leaf=0.0, n_estimators=2, n_jobs=None,\n",
       "           oob_score=False, random_state=0, verbose=0, warm_start=False)"
      ]
     },
     "execution_count": 17,
     "metadata": {},
     "output_type": "execute_result"
    }
   ],
   "source": [
    "model_extratree_clf = ensemble.ExtraTreesClassifier(max_depth=3,n_estimators=2,random_state=0)\n",
    "model_extratree_clf.fit(X_train_proceeded,y_train)"
   ]
  },
  {
   "cell_type": "code",
   "execution_count": 18,
   "metadata": {},
   "outputs": [
    {
     "name": "stdout",
     "output_type": "stream",
     "text": [
      "[[68 11]\n",
      " [18 46]]\n"
     ]
    }
   ],
   "source": [
    "# model performance on test set\n",
    "y_pred_test = model_extratree_clf.predict(X_test_proceeded)\n",
    "print(metrics.confusion_matrix(y_test,y_pred_test))"
   ]
  },
  {
   "cell_type": "code",
   "execution_count": 19,
   "metadata": {},
   "outputs": [
    {
     "name": "stdout",
     "output_type": "stream",
     "text": [
      "Sex_ordered > 0.5859209424696681 and Pclass_ordered > 0.506024637348139 and Age > 42.70739467800939\n",
      "Sex_ordered <= 0.5859209424696681 and Pclass_ordered > 0.6300343487048754 and Fare <= 487.86732759797127\n",
      "Sex_ordered > 0.5859209424696681 and Pclass_ordered > 0.506024637348139 and Age <= 42.70739467800939\n",
      "Sex_ordered <= 0.5859209424696681 and Pclass_ordered <= 0.6300343487048754 and Fare > 19.768909903834068\n",
      "Sex_ordered > 0.5859209424696681 and Pclass_ordered <= 0.506024637348139 and Age <= 27.126815941243812\n",
      "Sex_ordered <= 0.5859209424696681 and Pclass_ordered <= 0.6300343487048754 and Fare <= 19.768909903834068\n",
      "Sex_ordered <= 0.5859209424696681 and Pclass_ordered > 0.6300343487048754 and Fare > 487.86732759797127\n",
      "Sex_ordered > 0.5859209424696681 and Pclass_ordered <= 0.506024637348139 and Age > 27.126815941243812\n",
      "Pclass_ordered > 0.4895107363075585 and Sex_ordered > 0.3002771553876842 and Age <= 16.99989479733626\n",
      "Pclass_ordered > 0.4895107363075585 and Sex_ordered > 0.3002771553876842 and Age > 16.99989479733626\n",
      "Pclass_ordered <= 0.4895107363075585 and Sex_ordered > 0.3898439314490967 and Age > 61.69978473554355\n",
      "Pclass_ordered > 0.4895107363075585 and Sex_ordered <= 0.3002771553876842 and Fare <= 322.528637502558\n",
      "Pclass_ordered <= 0.4895107363075585 and Sex_ordered > 0.3898439314490967 and Age <= 61.69978473554355\n",
      "Pclass_ordered > 0.4895107363075585 and Sex_ordered <= 0.3002771553876842 and Fare > 322.528637502558\n",
      "Pclass_ordered <= 0.4895107363075585 and Sex_ordered <= 0.3898439314490967 and Age <= 28.78645799781408\n",
      "Pclass_ordered <= 0.4895107363075585 and Sex_ordered <= 0.3898439314490967 and Age > 28.78645799781408\n"
     ]
    }
   ],
   "source": [
    "rules, _ = rule_extract(model=model_extratree_clf,feature_names=X_train_proceeded.columns)\n",
    "for i in rules:\n",
    "    print(i)"
   ]
  },
  {
   "cell_type": "markdown",
   "metadata": {
    "collapsed": true
   },
   "source": [
    "## 6.Rule Voting"
   ]
  },
  {
   "cell_type": "markdown",
   "metadata": {},
   "source": [
    "### 6.1 Testing our filtering method"
   ]
  },
  {
   "cell_type": "markdown",
   "metadata": {},
   "source": [
    "in section 5, we have a rule with performance on test set:\n",
    "\n",
    "('Fare > 26.125 and Pclass_ordered > 0.3504907488822937 and Sex_ordered > 0.4722778648138046', \n",
    "\n",
    "recall on 1-class, prec on 1-class, recall on 0-class, prec on 0-class, nb   \n",
    "(0.328125, 0.9130434782608695, 0.9746835443037974, 0.6416666666666667, 1))\n",
    "\n",
    "let's check if the result is correct"
   ]
  },
  {
   "cell_type": "code",
   "execution_count": 20,
   "metadata": {},
   "outputs": [
    {
     "name": "stdout",
     "output_type": "stream",
     "text": [
      "0.0    120\n",
      "1.0     23\n",
      "Name: 0, dtype: int64\n"
     ]
    }
   ],
   "source": [
    "one_rule = ['Fare > 26.125 and Pclass_ordered > 0.3504907488822937 and Sex_ordered > 0.4722778648138046']\n",
    "X_test_proceeded_reindex = X_test_proceeded.reset_index(drop=True)\n",
    "score = rules_vote(X=X_test_proceeded_reindex,rules=one_rule)\n",
    "score = pd.DataFrame(score)\n",
    "print(score[0].value_counts())\n",
    "score['predict'] = score[0]\n",
    "score['predict'][score[0]==1] = 1\n",
    "# this single rule has predicted 23 cases to be positive in test data"
   ]
  },
  {
   "cell_type": "code",
   "execution_count": 21,
   "metadata": {},
   "outputs": [
    {
     "name": "stdout",
     "output_type": "stream",
     "text": [
      "[[77  2]\n",
      " [43 21]]\n",
      "recall in 1-class:  0.328125\n",
      "prec   in 1-class:  0.9130434782608695\n",
      "recall in 0-class:  0.9746835443037974\n",
      "prec   in 0-class:  0.6416666666666667\n"
     ]
    }
   ],
   "source": [
    "print(metrics.confusion_matrix(y_test,score.predict))\n",
    "print('recall in 1-class: ', 21/(21+43))\n",
    "print('prec   in 1-class: ', 21/(21+2))\n",
    "print('recall in 0-class: ', 77/(77+2))\n",
    "print('prec   in 0-class: ', 77/(77+43))"
   ]
  },
  {
   "cell_type": "markdown",
   "metadata": {},
   "source": [
    "### 6.2 Random Forest"
   ]
  },
  {
   "cell_type": "code",
   "execution_count": 22,
   "metadata": {},
   "outputs": [
    {
     "data": {
      "text/plain": [
       "RandomForestClassifier(bootstrap=True, class_weight=None, criterion='gini',\n",
       "            max_depth=3, max_features='auto', max_leaf_nodes=None,\n",
       "            min_impurity_decrease=0.0, min_impurity_split=None,\n",
       "            min_samples_leaf=1, min_samples_split=2,\n",
       "            min_weight_fraction_leaf=0.0, n_estimators=3, n_jobs=None,\n",
       "            oob_score=False, random_state=9, verbose=0, warm_start=False)"
      ]
     },
     "execution_count": 22,
     "metadata": {},
     "output_type": "execute_result"
    }
   ],
   "source": [
    "# we train a random forest\n",
    "model_RF_clf = ensemble.RandomForestClassifier(max_depth=3,n_estimators=3,random_state=9)\n",
    "model_RF_clf.fit(X_train_proceeded,y_train)"
   ]
  },
  {
   "cell_type": "code",
   "execution_count": 23,
   "metadata": {},
   "outputs": [
    {
     "name": "stdout",
     "output_type": "stream",
     "text": [
      "[[72  7]\n",
      " [23 41]]\n"
     ]
    }
   ],
   "source": [
    "# model performance on test set\n",
    "y_pred_test = model_RF_clf.predict(X_test_proceeded)\n",
    "print(metrics.confusion_matrix(y_test,y_pred_test))"
   ]
  },
  {
   "cell_type": "code",
   "execution_count": 24,
   "metadata": {},
   "outputs": [
    {
     "name": "stdout",
     "output_type": "stream",
     "text": [
      "5\n"
     ]
    }
   ],
   "source": [
    "# we extract rules from the ensemble with filtering\n",
    "rules,rule_dict = rule_extract(model=model_RF_clf,\n",
    "                               feature_names=X_train_proceeded.columns,\n",
    "                               x_test=X_train_proceeded,\n",
    "                               y_test=y_train,\n",
    "                                 sort_key=0,\n",
    "                                 recall_min_c1=0.1,\n",
    "                                 precision_min_c1=0.6,\n",
    "                                 recall_min_c0=0.1,\n",
    "                                 precision_min_c0=0.5)\n",
    "print(len(rules))\n",
    "\n",
    "# we have 5 rule that have prec on class 1>0.6 and recall>0.1"
   ]
  },
  {
   "cell_type": "code",
   "execution_count": 25,
   "metadata": {},
   "outputs": [
    {
     "name": "stdout",
     "output_type": "stream",
     "text": [
      "0.0    72\n",
      "1.0    36\n",
      "2.0    29\n",
      "3.0     6\n",
      "Name: 0, dtype: int64\n"
     ]
    }
   ],
   "source": [
    "# use the 5 above rules to make prediction again!\n",
    "X_test_proceeded_reindex = X_test_proceeded.reset_index(drop=True)\n",
    "#print(X_test_proceeded_reindex)\n",
    "score = rules_vote(X=X_test_proceeded_reindex,rules=rules)\n",
    "score = pd.DataFrame(score)\n",
    "print(score[0].value_counts())\n",
    "\n",
    "# 6 cases have been voted 3 times. they should be class 1 with greater confidence"
   ]
  },
  {
   "cell_type": "code",
   "execution_count": 26,
   "metadata": {},
   "outputs": [
    {
     "data": {
      "text/html": [
       "<div>\n",
       "<style scoped>\n",
       "    .dataframe tbody tr th:only-of-type {\n",
       "        vertical-align: middle;\n",
       "    }\n",
       "\n",
       "    .dataframe tbody tr th {\n",
       "        vertical-align: top;\n",
       "    }\n",
       "\n",
       "    .dataframe thead th {\n",
       "        text-align: right;\n",
       "    }\n",
       "</style>\n",
       "<table border=\"1\" class=\"dataframe\">\n",
       "  <thead>\n",
       "    <tr style=\"text-align: right;\">\n",
       "      <th></th>\n",
       "      <th>0</th>\n",
       "      <th>predict</th>\n",
       "    </tr>\n",
       "  </thead>\n",
       "  <tbody>\n",
       "    <tr>\n",
       "      <th>0</th>\n",
       "      <td>1.0</td>\n",
       "      <td>1.0</td>\n",
       "    </tr>\n",
       "    <tr>\n",
       "      <th>1</th>\n",
       "      <td>2.0</td>\n",
       "      <td>1.0</td>\n",
       "    </tr>\n",
       "    <tr>\n",
       "      <th>2</th>\n",
       "      <td>3.0</td>\n",
       "      <td>1.0</td>\n",
       "    </tr>\n",
       "    <tr>\n",
       "      <th>3</th>\n",
       "      <td>0.0</td>\n",
       "      <td>0.0</td>\n",
       "    </tr>\n",
       "    <tr>\n",
       "      <th>4</th>\n",
       "      <td>1.0</td>\n",
       "      <td>1.0</td>\n",
       "    </tr>\n",
       "  </tbody>\n",
       "</table>\n",
       "</div>"
      ],
      "text/plain": [
       "     0  predict\n",
       "0  1.0      1.0\n",
       "1  2.0      1.0\n",
       "2  3.0      1.0\n",
       "3  0.0      0.0\n",
       "4  1.0      1.0"
      ]
     },
     "execution_count": 26,
     "metadata": {},
     "output_type": "execute_result"
    }
   ],
   "source": [
    "# we predict all cases that have been voted at least once to be class 1\n",
    "# if we are more preservative, we can predict class 1 only if they have been \n",
    "# voted more times\n",
    "\n",
    "score['predict'] = score[0]\n",
    "score['predict'][score[0]>0] = 1\n",
    "score.head()"
   ]
  },
  {
   "cell_type": "code",
   "execution_count": 27,
   "metadata": {},
   "outputs": [
    {
     "name": "stdout",
     "output_type": "stream",
     "text": [
      "confusion matrix of RF model\n",
      "[[72  7]\n",
      " [23 41]]\n",
      "confusion matrix of the 5 rules\n",
      "[[58 21]\n",
      " [14 50]]\n"
     ]
    }
   ],
   "source": [
    "# compare this result with the confusion matrix made by the RF model itself\n",
    "# we can see that 5 rules have a better performace on predicting class 1 samples\n",
    "print('confusion matrix of RF model')\n",
    "print(metrics.confusion_matrix(y_test,y_pred_test))\n",
    "print('confusion matrix of the 5 rules')\n",
    "print(metrics.confusion_matrix(y_test,score.predict))"
   ]
  },
  {
   "cell_type": "code",
   "execution_count": null,
   "metadata": {
    "collapsed": true
   },
   "outputs": [],
   "source": []
  }
 ],
 "metadata": {
  "kernelspec": {
   "display_name": "Python 3",
   "language": "python",
   "name": "python3"
  },
  "language_info": {
   "codemirror_mode": {
    "name": "ipython",
    "version": 3
   },
   "file_extension": ".py",
   "mimetype": "text/x-python",
   "name": "python",
   "nbconvert_exporter": "python",
   "pygments_lexer": "ipython3",
   "version": "3.6.1"
  }
 },
 "nbformat": 4,
 "nbformat_minor": 2
}
