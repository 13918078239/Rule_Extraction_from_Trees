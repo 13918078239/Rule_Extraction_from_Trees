{
 "cells": [
  {
   "cell_type": "code",
   "execution_count": 1,
   "metadata": {
    "collapsed": true
   },
   "outputs": [],
   "source": [
    "import pandas as pd\n",
    "import numpy as np\n",
    "from sklearn.model_selection import train_test_split\n",
    "from sklearn import tree,ensemble,metrics\n",
    "\n",
    "from rule import Rule\n",
    "from rule_extraction import rule_extract,draw_tree"
   ]
  },
  {
   "cell_type": "markdown",
   "metadata": {},
   "source": [
    "## 数据准备"
   ]
  },
  {
   "cell_type": "code",
   "execution_count": 2,
   "metadata": {},
   "outputs": [
    {
     "name": "stdout",
     "output_type": "stream",
     "text": [
      "(571, 5) (143, 5)\n",
      "      Age     Fare     Sex  Pclass  Survived\n",
      "387  36.0  13.0000  female       2         1\n",
      "685  25.0  41.5792    male       2         0\n",
      "20   35.0  26.0000    male       2         0\n",
      "331  45.5  28.5000    male       1         0\n",
      "396  31.0   7.8542  female       3         0\n"
     ]
    }
   ],
   "source": [
    "# fetch dataset\n",
    "data = pd.read_csv('./dataset/titanic.csv', usecols = ['Age', 'Fare','Sex','Pclass','Survived'])\n",
    "\n",
    "# drop NA records since most Tree algorithm cannot handle\n",
    "data.dropna(inplace=True)\n",
    "\n",
    "# split training/test sets\n",
    "X_train, X_test, y_train, y_test = train_test_split(data[['Age', 'Fare','Sex','Pclass','Survived']], \n",
    "                                                    data.Survived, test_size=0.2, random_state=0)\n",
    "\n",
    "# dataset shape\n",
    "print(X_train.shape, X_test.shape)\n",
    "print(X_train.head(5))"
   ]
  },
  {
   "cell_type": "markdown",
   "metadata": {},
   "source": [
    "## 类别变量处理，采用 Mean Encoding 方法"
   ]
  },
  {
   "cell_type": "code",
   "execution_count": 3,
   "metadata": {
    "collapsed": true
   },
   "outputs": [],
   "source": [
    "# Pclass\n",
    "X_train.groupby(['Pclass'])['Survived'].mean()\n",
    "ordered_labels = X_train.groupby(['Pclass'])['Survived'].mean().to_dict()\n",
    "ordered_labels\n",
    "\n",
    "# Mean Encoding\n",
    "X_train['Pclass_ordered'] = X_train.Pclass.map(ordered_labels)\n",
    "X_test['Pclass_ordered'] = X_test.Pclass.map(ordered_labels)\n",
    "\n",
    "# Sex\n",
    "X_train.groupby(['Sex'])['Survived'].mean()\n",
    "ordered_labels = X_train.groupby(['Sex'])['Survived'].mean().to_dict()\n",
    "ordered_labels\n",
    "\n",
    "# Mean Encoding\n",
    "X_train['Sex_ordered'] = X_train.Sex.map(ordered_labels)\n",
    "X_test['Sex_ordered'] = X_test.Sex.map(ordered_labels)\n"
   ]
  },
  {
   "cell_type": "markdown",
   "metadata": {},
   "source": [
    "## 获得最终的训练数据集"
   ]
  },
  {
   "cell_type": "code",
   "execution_count": 4,
   "metadata": {},
   "outputs": [
    {
     "name": "stdout",
     "output_type": "stream",
     "text": [
      "      Age     Fare  Sex_ordered  Pclass_ordered\n",
      "387  36.0  13.0000     0.740196        0.460432\n",
      "685  25.0  41.5792     0.204360        0.460432\n",
      "20   35.0  26.0000     0.204360        0.460432\n",
      "331  45.5  28.5000     0.204360        0.652482\n",
      "396  31.0   7.8542     0.740196        0.240550\n"
     ]
    }
   ],
   "source": [
    "X_train_proceeded = X_train[['Age', 'Fare','Sex_ordered','Pclass_ordered']]\n",
    "X_test_proceeded = X_test[['Age', 'Fare','Sex_ordered','Pclass_ordered']]\n",
    "print(X_train_proceeded.head())"
   ]
  },
  {
   "cell_type": "markdown",
   "metadata": {},
   "source": [
    "## 单颗决策树"
   ]
  },
  {
   "cell_type": "code",
   "execution_count": 5,
   "metadata": {},
   "outputs": [
    {
     "data": {
      "text/plain": [
       "DecisionTreeClassifier(class_weight=None, criterion='gini', max_depth=3,\n",
       "            max_features=None, max_leaf_nodes=None,\n",
       "            min_impurity_split=1e-07, min_samples_leaf=1,\n",
       "            min_samples_split=2, min_weight_fraction_leaf=0.0,\n",
       "            presort=False, random_state=None, splitter='best')"
      ]
     },
     "execution_count": 5,
     "metadata": {},
     "output_type": "execute_result"
    }
   ],
   "source": [
    "# 单颗决策树模型\n",
    "# 模型API参考 http://scikit-learn.org/stable/modules/generated/sklearn.tree.DecisionTreeClassifier.html\n",
    "\n",
    "model_tree_clf = tree.DecisionTreeClassifier(criterion='gini',max_depth=3)\n",
    "model_tree_clf.fit(X_train_proceeded,y_train)"
   ]
  },
  {
   "cell_type": "code",
   "execution_count": 6,
   "metadata": {},
   "outputs": [
    {
     "name": "stdout",
     "output_type": "stream",
     "text": [
      "[[311  34]\n",
      " [ 67 159]]\n"
     ]
    }
   ],
   "source": [
    "# model performance on training set\n",
    "y_pred = model_tree_clf.predict(X_train_proceeded)\n",
    "print(metrics.confusion_matrix(y_train,y_pred))"
   ]
  },
  {
   "cell_type": "markdown",
   "metadata": {},
   "source": [
    "##  输出所有规则，不加筛选条件\n",
    "\n",
    "共8条规则，对应8条从root到叶子节点的完整路径"
   ]
  },
  {
   "cell_type": "code",
   "execution_count": 7,
   "metadata": {},
   "outputs": [
    {
     "data": {
      "text/plain": [
       "['Sex_ordered > 0.4722778797149658 and Pclass_ordered <= 0.3504907488822937 and Fare <= 20.799999237060547',\n",
       " 'Sex_ordered > 0.4722778797149658 and Pclass_ordered > 0.3504907488822937 and Fare > 26.125',\n",
       " 'Sex_ordered > 0.4722778797149658 and Pclass_ordered > 0.3504907488822937 and Fare <= 26.125',\n",
       " 'Sex_ordered <= 0.4722778797149658 and Age <= 13.0 and Pclass_ordered > 0.3504907488822937',\n",
       " 'Sex_ordered > 0.4722778797149658 and Pclass_ordered <= 0.3504907488822937 and Fare > 20.799999237060547',\n",
       " 'Sex_ordered <= 0.4722778797149658 and Age <= 13.0 and Pclass_ordered <= 0.3504907488822937',\n",
       " 'Sex_ordered <= 0.4722778797149658 and Age > 13.0 and Pclass_ordered <= 0.556456983089447',\n",
       " 'Sex_ordered <= 0.4722778797149658 and Age > 13.0 and Pclass_ordered > 0.556456983089447']"
      ]
     },
     "execution_count": 7,
     "metadata": {},
     "output_type": "execute_result"
    }
   ],
   "source": [
    "rule_extract(model=model_tree_clf,feature_names=X_train_proceeded.columns)"
   ]
  },
  {
   "cell_type": "markdown",
   "metadata": {},
   "source": [
    "## 输出决策树的结构\n",
    "与训练集的混淆矩阵\n",
    "\n",
    " | 预测=0 | 预测=1\n",
    "- | :-: | -: \n",
    "真实=0 | 311 | 34\n",
    "真实=1|  67 |  159\n",
    "\n",
    " 比较，结果完全吻合"
   ]
  },
  {
   "cell_type": "code",
   "execution_count": 8,
   "metadata": {
    "collapsed": true
   },
   "outputs": [],
   "source": [
    "draw_tree(model=model_tree_clf,\n",
    "          outdir='./images/DecisionTree/',\n",
    "          feature_names=X_train_proceeded.columns,\n",
    "          proportion=False,\n",
    "          class_names=['0','1'])"
   ]
  },
  {
   "cell_type": "markdown",
   "metadata": {},
   "source": [
    "![title](images/DecisionTree/DecisionTree.jpeg) "
   ]
  },
  {
   "cell_type": "markdown",
   "metadata": {},
   "source": [
    "##  输出筛选后的规则\n",
    "返回  [rule, recall on 0-class, prec on 0-class, recall on 0-class, prec on 0-class, nb]\n"
   ]
  },
  {
   "cell_type": "code",
   "execution_count": 9,
   "metadata": {},
   "outputs": [
    {
     "data": {
      "text/plain": [
       "[('Fare > 26.125 and Pclass_ordered > 0.3504907488822937 and Sex_ordered > 0.4722778797149658',\n",
       "  (0.328125, 0.9130434782608695, 0.9746835443037974, 0.6311475409836066, 1)),\n",
       " ('Fare <= 26.125 and Pclass_ordered > 0.3504907488822937 and Sex_ordered > 0.4722778797149658',\n",
       "  (0.21875, 0.875, 0.9746835443037974, 0.5968992248062015, 1)),\n",
       " ('Fare <= 20.799999237060547 and Pclass_ordered <= 0.3504907488822937 and Sex_ordered > 0.4722778797149658',\n",
       "  (0.171875, 0.6470588235294118, 0.9240506329113924, 0.553030303030303, 1))]"
      ]
     },
     "execution_count": 9,
     "metadata": {},
     "output_type": "execute_result"
    }
   ],
   "source": [
    "# 筛选规则，要求对1类样本的召回率在0.1以上，准确率在0.5以上\n",
    "rule_extract(model=model_tree_clf,\n",
    "             feature_names=X_train_proceeded.columns,\n",
    "             x_test=X_test,\n",
    "             y_test=y_test,\n",
    "             sort_key=0,\n",
    "             recall_min_c1=0.1,\n",
    "             precision_min_c1=0.5,\n",
    "             recall_min_c0=0,\n",
    "             precision_min_c0=0)"
   ]
  },
  {
   "cell_type": "markdown",
   "metadata": {},
   "source": [
    "## 随机森林"
   ]
  },
  {
   "cell_type": "code",
   "execution_count": 10,
   "metadata": {},
   "outputs": [
    {
     "data": {
      "text/plain": [
       "RandomForestClassifier(bootstrap=True, class_weight=None, criterion='gini',\n",
       "            max_depth=3, max_features='auto', max_leaf_nodes=None,\n",
       "            min_impurity_split=1e-07, min_samples_leaf=1,\n",
       "            min_samples_split=2, min_weight_fraction_leaf=0.0,\n",
       "            n_estimators=3, n_jobs=1, oob_score=False, random_state=None,\n",
       "            verbose=0, warm_start=False)"
      ]
     },
     "execution_count": 10,
     "metadata": {},
     "output_type": "execute_result"
    }
   ],
   "source": [
    "model_RF_clf = ensemble.RandomForestClassifier(max_depth=3,n_estimators=3)\n",
    "model_RF_clf.fit(X_train_proceeded,y_train)"
   ]
  },
  {
   "cell_type": "code",
   "execution_count": 11,
   "metadata": {},
   "outputs": [
    {
     "name": "stdout",
     "output_type": "stream",
     "text": [
      "[[69 10]\n",
      " [27 37]]\n"
     ]
    }
   ],
   "source": [
    "# model performance on test set\n",
    "y_pred_test = model_RF_clf.predict(X_test_proceeded)\n",
    "print(metrics.confusion_matrix(y_test,y_pred_test))"
   ]
  },
  {
   "cell_type": "code",
   "execution_count": 22,
   "metadata": {},
   "outputs": [
    {
     "data": {
      "text/plain": [
       "['Sex_ordered > 0.4722778797149658 and Fare <= 31.331249237060547 and Age > 18.5',\n",
       " 'Sex_ordered <= 0.4722778797149658 and Age <= 8.5 and Fare <= 39.34375',\n",
       " 'Sex_ordered <= 0.4722778797149658 and Age > 8.5 and Fare > 25.075000762939453',\n",
       " 'Sex_ordered > 0.4722778797149658 and Fare > 31.331249237060547 and Age <= 27.0',\n",
       " 'Sex_ordered <= 0.4722778797149658 and Age > 8.5 and Fare <= 25.075000762939453',\n",
       " 'Sex_ordered > 0.4722778797149658 and Fare <= 31.331249237060547 and Age <= 18.5',\n",
       " 'Sex_ordered <= 0.4722778797149658 and Age <= 8.5 and Fare > 39.34375',\n",
       " 'Sex_ordered > 0.4722778797149658 and Fare > 31.331249237060547 and Age > 27.0',\n",
       " 'Pclass_ordered <= 0.3504907488822937 and Age > 32.5 and Fare <= 31.331249237060547',\n",
       " 'Pclass_ordered > 0.3504907488822937 and Fare <= 13.64585018157959 and Sex_ordered <= 0.4722778797149658',\n",
       " 'Pclass_ordered > 0.3504907488822937 and Fare <= 13.64585018157959 and Sex_ordered > 0.4722778797149658',\n",
       " 'Pclass_ordered <= 0.3504907488822937 and Age <= 32.5 and Sex_ordered > 0.4722778797149658',\n",
       " 'Pclass_ordered <= 0.3504907488822937 and Age <= 32.5 and Sex_ordered <= 0.4722778797149658',\n",
       " 'Pclass_ordered > 0.3504907488822937 and Fare > 13.64585018157959 and Fare > 75.1146011352539',\n",
       " 'Pclass_ordered <= 0.3504907488822937 and Age > 32.5 and Fare > 31.331249237060547',\n",
       " 'Pclass_ordered > 0.3504907488822937 and Fare > 13.64585018157959 and Fare <= 75.1146011352539',\n",
       " 'Pclass_ordered <= 0.556456983089447 and Fare > 10.816650390625 and Fare <= 12.5',\n",
       " 'Pclass_ordered <= 0.556456983089447 and Fare > 10.816650390625 and Fare > 12.5',\n",
       " 'Pclass_ordered > 0.556456983089447 and Fare <= 52.208351135253906 and Age > 58.5',\n",
       " 'Pclass_ordered <= 0.556456983089447 and Fare <= 10.816650390625 and Age <= 32.5',\n",
       " 'Pclass_ordered <= 0.556456983089447 and Fare <= 10.816650390625 and Age > 32.5',\n",
       " 'Pclass_ordered > 0.556456983089447 and Fare <= 52.208351135253906 and Age <= 58.5',\n",
       " 'Pclass_ordered > 0.556456983089447 and Fare > 52.208351135253906 and Sex_ordered > 0.4722778797149658',\n",
       " 'Pclass_ordered > 0.556456983089447 and Fare > 52.208351135253906 and Sex_ordered <= 0.4722778797149658']"
      ]
     },
     "execution_count": 22,
     "metadata": {},
     "output_type": "execute_result"
    }
   ],
   "source": [
    "rule_extract(model=model_RF_clf,feature_names=X_train_proceeded.columns)"
   ]
  },
  {
   "cell_type": "markdown",
   "metadata": {},
   "source": [
    "## 输出决策树的结构"
   ]
  },
  {
   "cell_type": "code",
   "execution_count": 13,
   "metadata": {
    "collapsed": true
   },
   "outputs": [],
   "source": [
    "draw_tree(model=model_RF_clf,\n",
    "          outdir='./images/RandomForest/',\n",
    "          feature_names=X_train_proceeded.columns,\n",
    "          proportion=False,\n",
    "          class_names=['0','1'])"
   ]
  },
  {
   "cell_type": "markdown",
   "metadata": {},
   "source": [
    "### Tree 1\n",
    "![title](images/RandomForest/EnsembleTrees_No1.jpeg) "
   ]
  },
  {
   "cell_type": "markdown",
   "metadata": {},
   "source": [
    "### Tree2\n",
    "![title](images/RandomForest/EnsembleTrees_No2.jpeg) "
   ]
  },
  {
   "cell_type": "markdown",
   "metadata": {},
   "source": [
    "### Tree3\n",
    "![title](images/RandomForest/EnsembleTrees_No3.jpeg) "
   ]
  },
  {
   "cell_type": "markdown",
   "metadata": {},
   "source": [
    "## BaggingClassifier"
   ]
  },
  {
   "cell_type": "code",
   "execution_count": 14,
   "metadata": {},
   "outputs": [
    {
     "data": {
      "text/plain": [
       "BaggingClassifier(base_estimator=DecisionTreeClassifier(class_weight=None, criterion='gini', max_depth=3,\n",
       "            max_features=None, max_leaf_nodes=None,\n",
       "            min_impurity_split=1e-07, min_samples_leaf=1,\n",
       "            min_samples_split=2, min_weight_fraction_leaf=0.0,\n",
       "            presort=False, random_state=None, splitter='best'),\n",
       "         bootstrap=True, bootstrap_features=False, max_features=1.0,\n",
       "         max_samples=1.0, n_estimators=2, n_jobs=-1, oob_score=False,\n",
       "         random_state=0, verbose=0, warm_start=False)"
      ]
     },
     "execution_count": 14,
     "metadata": {},
     "output_type": "execute_result"
    }
   ],
   "source": [
    "model_bagging_clf = ensemble.BaggingClassifier(\n",
    "                base_estimator=tree.DecisionTreeClassifier(max_depth=3),\n",
    "                n_estimators=2,\n",
    "                n_jobs=-1,\n",
    "                random_state=0)\n",
    "model_bagging_clf.fit(X_train_proceeded,y_train)"
   ]
  },
  {
   "cell_type": "code",
   "execution_count": 15,
   "metadata": {},
   "outputs": [
    {
     "name": "stdout",
     "output_type": "stream",
     "text": [
      "[[75  4]\n",
      " [27 37]]\n"
     ]
    }
   ],
   "source": [
    "# model performance on test set\n",
    "y_pred_test = model_bagging_clf.predict(X_test_proceeded)\n",
    "print(metrics.confusion_matrix(y_test,y_pred_test))"
   ]
  },
  {
   "cell_type": "code",
   "execution_count": 16,
   "metadata": {},
   "outputs": [
    {
     "data": {
      "text/plain": [
       "['Sex_ordered > 0.4722778797149658 and Pclass_ordered <= 0.3504907488822937 and Age <= 35.0',\n",
       " 'Sex_ordered > 0.4722778797149658 and Pclass_ordered > 0.3504907488822937 and Fare <= 22.0',\n",
       " 'Sex_ordered <= 0.4722778797149658 and Fare > 56.197898864746094 and Fare <= 59.087501525878906',\n",
       " 'Sex_ordered <= 0.4722778797149658 and Fare > 56.197898864746094 and Fare > 59.087501525878906',\n",
       " 'Sex_ordered <= 0.4722778797149658 and Fare <= 56.197898864746094 and Age > 9.5',\n",
       " 'Sex_ordered > 0.4722778797149658 and Pclass_ordered <= 0.3504907488822937 and Age > 35.0',\n",
       " 'Sex_ordered > 0.4722778797149658 and Pclass_ordered > 0.3504907488822937 and Fare > 22.0',\n",
       " 'Sex_ordered <= 0.4722778797149658 and Fare <= 56.197898864746094 and Age <= 9.5',\n",
       " 'Sex_ordered <= 0.4722778797149658 and Age > 5.5 and Pclass_ordered > 0.556456983089447',\n",
       " 'Sex_ordered > 0.4722778797149658 and Pclass_ordered <= 0.3504907488822937 and Fare <= 20.799999237060547',\n",
       " 'Sex_ordered > 0.4722778797149658 and Pclass_ordered > 0.3504907488822937 and Fare <= 13.75',\n",
       " 'Sex_ordered > 0.4722778797149658 and Pclass_ordered <= 0.3504907488822937 and Fare > 20.799999237060547',\n",
       " 'Sex_ordered <= 0.4722778797149658 and Age > 5.5 and Pclass_ordered <= 0.556456983089447',\n",
       " 'Sex_ordered <= 0.4722778797149658 and Age <= 5.5 and Pclass_ordered <= 0.3504907488822937',\n",
       " 'Sex_ordered <= 0.4722778797149658 and Age <= 5.5 and Pclass_ordered > 0.3504907488822937',\n",
       " 'Sex_ordered > 0.4722778797149658 and Pclass_ordered > 0.3504907488822937 and Fare > 13.75']"
      ]
     },
     "execution_count": 16,
     "metadata": {},
     "output_type": "execute_result"
    }
   ],
   "source": [
    "rule_extract(model=model_bagging_clf,feature_names=X_train_proceeded.columns)"
   ]
  },
  {
   "cell_type": "markdown",
   "metadata": {},
   "source": [
    "## 极端随机树"
   ]
  },
  {
   "cell_type": "code",
   "execution_count": 17,
   "metadata": {},
   "outputs": [
    {
     "data": {
      "text/plain": [
       "ExtraTreesClassifier(bootstrap=False, class_weight=None, criterion='gini',\n",
       "           max_depth=3, max_features='auto', max_leaf_nodes=None,\n",
       "           min_impurity_split=1e-07, min_samples_leaf=1,\n",
       "           min_samples_split=2, min_weight_fraction_leaf=0.0,\n",
       "           n_estimators=2, n_jobs=1, oob_score=False, random_state=None,\n",
       "           verbose=0, warm_start=False)"
      ]
     },
     "execution_count": 17,
     "metadata": {},
     "output_type": "execute_result"
    }
   ],
   "source": [
    "model_extratree_clf = ensemble.ExtraTreesClassifier(max_depth=3,n_estimators=2)\n",
    "model_extratree_clf.fit(X_train_proceeded,y_train)"
   ]
  },
  {
   "cell_type": "code",
   "execution_count": 18,
   "metadata": {},
   "outputs": [
    {
     "name": "stdout",
     "output_type": "stream",
     "text": [
      "[[67 12]\n",
      " [22 42]]\n"
     ]
    }
   ],
   "source": [
    "# model performance on test set\n",
    "y_pred_test = model_extratree_clf.predict(X_test_proceeded)\n",
    "print(metrics.confusion_matrix(y_test,y_pred_test))"
   ]
  },
  {
   "cell_type": "code",
   "execution_count": 19,
   "metadata": {},
   "outputs": [
    {
     "data": {
      "text/plain": [
       "['Fare > 379.34570757649794',\n",
       " 'Fare <= 379.34570757649794 and Sex_ordered > 0.6927238932803257 and Pclass_ordered > 0.3221824863733518',\n",
       " 'Fare <= 379.34570757649794 and Sex_ordered > 0.6927238932803257 and Pclass_ordered <= 0.3221824863733518',\n",
       " 'Fare <= 379.34570757649794 and Sex_ordered <= 0.6927238932803257 and Age > 65.99065063150593',\n",
       " 'Fare <= 379.34570757649794 and Sex_ordered <= 0.6927238932803257 and Age <= 65.99065063150593',\n",
       " 'Pclass_ordered <= 0.5742380434968545 and Sex_ordered <= 0.6736380032889797 and Age > 31.090236635227853',\n",
       " 'Pclass_ordered <= 0.5742380434968545 and Sex_ordered > 0.6736380032889797 and Age <= 12.726500393695432',\n",
       " 'Pclass_ordered > 0.5742380434968545 and Age <= 22.50804470596278 and Fare > 155.1217262992275',\n",
       " 'Pclass_ordered > 0.5742380434968545 and Age > 22.50804470596278 and Sex_ordered > 0.35653855811173185',\n",
       " 'Pclass_ordered <= 0.5742380434968545 and Sex_ordered > 0.6736380032889797 and Age > 12.726500393695432',\n",
       " 'Pclass_ordered <= 0.5742380434968545 and Sex_ordered <= 0.6736380032889797 and Age <= 31.090236635227853',\n",
       " 'Pclass_ordered > 0.5742380434968545 and Age > 22.50804470596278 and Sex_ordered <= 0.35653855811173185',\n",
       " 'Pclass_ordered > 0.5742380434968545 and Age <= 22.50804470596278 and Fare <= 155.1217262992275']"
      ]
     },
     "execution_count": 19,
     "metadata": {},
     "output_type": "execute_result"
    }
   ],
   "source": [
    "rule_extract(model=model_extratree_clf,feature_names=X_train_proceeded.columns)"
   ]
  },
  {
   "cell_type": "code",
   "execution_count": null,
   "metadata": {
    "collapsed": true
   },
   "outputs": [],
   "source": []
  }
 ],
 "metadata": {
  "kernelspec": {
   "display_name": "Python 3",
   "language": "python",
   "name": "python3"
  },
  "language_info": {
   "codemirror_mode": {
    "name": "ipython",
    "version": 3
   },
   "file_extension": ".py",
   "mimetype": "text/x-python",
   "name": "python",
   "nbconvert_exporter": "python",
   "pygments_lexer": "ipython3",
   "version": "3.6.1"
  }
 },
 "nbformat": 4,
 "nbformat_minor": 2
}
