{
 "cells": [
  {
   "cell_type": "code",
   "execution_count": 1,
   "metadata": {
    "collapsed": true
   },
   "outputs": [],
   "source": [
    "import pandas as pd\n",
    "import numpy as np\n",
    "from sklearn.model_selection import train_test_split\n",
    "from sklearn import tree,ensemble,metrics\n",
    "\n",
    "from rule import Rule\n",
    "from rule_extraction import rule_extract"
   ]
  },
  {
   "cell_type": "markdown",
   "metadata": {},
   "source": [
    "## 数据准备"
   ]
  },
  {
   "cell_type": "code",
   "execution_count": 2,
   "metadata": {},
   "outputs": [
    {
     "name": "stdout",
     "output_type": "stream",
     "text": [
      "(571, 2) (143, 2)\n"
     ]
    }
   ],
   "source": [
    "# fetch dataset\n",
    "data = pd.read_csv('./dataset/titanic.csv', usecols = ['Age', 'Fare', 'Survived'])\n",
    "\n",
    "# drop NA records since most Tree algorithm cannot handle\n",
    "data.dropna(inplace=True)\n",
    "\n",
    "# split training/test sets\n",
    "X_train, X_test, y_train, y_test = train_test_split(data[['Age', 'Fare']], data.Survived, test_size=0.2, random_state=0)\n",
    "\n",
    "# dataset shape\n",
    "print(X_train.shape, X_test.shape)\n"
   ]
  },
  {
   "cell_type": "markdown",
   "metadata": {},
   "source": [
    "## 单颗决策树"
   ]
  },
  {
   "cell_type": "code",
   "execution_count": 3,
   "metadata": {},
   "outputs": [
    {
     "data": {
      "text/plain": [
       "DecisionTreeClassifier(class_weight=None, criterion='gini', max_depth=3,\n",
       "            max_features=None, max_leaf_nodes=None,\n",
       "            min_impurity_split=1e-07, min_samples_leaf=1,\n",
       "            min_samples_split=2, min_weight_fraction_leaf=0.0,\n",
       "            presort=False, random_state=None, splitter='best')"
      ]
     },
     "execution_count": 3,
     "metadata": {},
     "output_type": "execute_result"
    }
   ],
   "source": [
    "# 单颗决策树模型\n",
    "# 模型API参考 http://scikit-learn.org/stable/modules/generated/sklearn.tree.DecisionTreeClassifier.html\n",
    "\n",
    "model_tree_clf = tree.DecisionTreeClassifier(criterion='gini',max_depth=3)\n",
    "model_tree_clf.fit(X_train,y_train)"
   ]
  },
  {
   "cell_type": "code",
   "execution_count": 4,
   "metadata": {},
   "outputs": [
    {
     "name": "stdout",
     "output_type": "stream",
     "text": [
      "[[67 12]\n",
      " [33 31]]\n"
     ]
    }
   ],
   "source": [
    "# model performance on test set\n",
    "y_pred_test = model_tree_clf.predict(X_test)\n",
    "print(metrics.confusion_matrix(y_test,y_pred_test))"
   ]
  },
  {
   "cell_type": "code",
   "execution_count": 5,
   "metadata": {},
   "outputs": [
    {
     "data": {
      "text/plain": [
       "[('Age > 8.5 and Fare <= 51.931251525878906 and Fare > 10.335399627685547',\n",
       "  (0.40625, 0.4727272727272727, 0.6329113924050633, 0.42735042735042733, 1)),\n",
       " ('Age > 29.5 and Fare > 51.931251525878906',\n",
       "  (0.25, 0.6956521739130435, 0.9113924050632911, 0.5669291338582677, 1)),\n",
       " ('Age <= 29.5 and Age > 17.5 and Fare > 51.931251525878906',\n",
       "  (0.109375, 0.6363636363636364, 0.9493670886075949, 0.5514705882352942, 1)),\n",
       " ('Age <= 8.5 and Fare <= 27.825000762939453',\n",
       "  (0.09375, 1.0, 1.0, 0.5766423357664233, 1)),\n",
       " ('Age > 8.5 and Fare <= 10.335399627685547',\n",
       "  (0.078125, 0.1282051282051282, 0.5696202531645569, 0.32608695652173914, 1)),\n",
       " ('Age <= 8.5 and Fare <= 51.931251525878906 and Fare > 27.825000762939453',\n",
       "  (0.03125, 0.3333333333333333, 0.9493670886075949, 0.5319148936170213, 1)),\n",
       " ('Age <= 17.5 and Fare > 51.931251525878906',\n",
       "  (0.03125, 0.6666666666666666, 0.9873417721518988, 0.5531914893617021, 1))]"
      ]
     },
     "execution_count": 5,
     "metadata": {},
     "output_type": "execute_result"
    }
   ],
   "source": [
    "# 输出所有规则，不加筛选条件\n",
    "# 输出：list of tuples (rule, recall on 0-class, prec on 0-class, recall on 0-class, prec on 0-class, nb)\n",
    "    \n",
    "rule_extract(model_tree_clf,X_test,y_test)"
   ]
  },
  {
   "cell_type": "code",
   "execution_count": 6,
   "metadata": {},
   "outputs": [
    {
     "data": {
      "text/plain": [
       "[('Age > 29.5 and Fare > 51.931251525878906',\n",
       "  (0.25, 0.6956521739130435, 0.9113924050632911, 0.5669291338582677, 1)),\n",
       " ('Age <= 29.5 and Age > 17.5 and Fare > 51.931251525878906',\n",
       "  (0.109375, 0.6363636363636364, 0.9493670886075949, 0.5514705882352942, 1))]"
      ]
     },
     "execution_count": 6,
     "metadata": {},
     "output_type": "execute_result"
    }
   ],
   "source": [
    "# 筛选规则，要求对1类样本的召回率在0.1以上，准确率在0.5以上\n",
    "rule_extract(model_tree_clf,X_test,y_test,0,0.1,0.5,0,0)"
   ]
  },
  {
   "cell_type": "markdown",
   "metadata": {},
   "source": [
    "## 随机森林"
   ]
  },
  {
   "cell_type": "code",
   "execution_count": 7,
   "metadata": {},
   "outputs": [
    {
     "data": {
      "text/plain": [
       "RandomForestClassifier(bootstrap=True, class_weight=None, criterion='gini',\n",
       "            max_depth=3, max_features='auto', max_leaf_nodes=None,\n",
       "            min_impurity_split=1e-07, min_samples_leaf=1,\n",
       "            min_samples_split=2, min_weight_fraction_leaf=0.0,\n",
       "            n_estimators=2, n_jobs=1, oob_score=False, random_state=None,\n",
       "            verbose=0, warm_start=False)"
      ]
     },
     "execution_count": 7,
     "metadata": {},
     "output_type": "execute_result"
    }
   ],
   "source": [
    "model_RF_clf = ensemble.RandomForestClassifier(max_depth=3,n_estimators=2)\n",
    "model_RF_clf.fit(X_train,y_train)"
   ]
  },
  {
   "cell_type": "code",
   "execution_count": 8,
   "metadata": {},
   "outputs": [
    {
     "name": "stdout",
     "output_type": "stream",
     "text": [
      "[[67 12]\n",
      " [38 26]]\n"
     ]
    }
   ],
   "source": [
    "# model performance on test set\n",
    "y_pred_test = model_RF_clf.predict(X_test)\n",
    "print(metrics.confusion_matrix(y_test,y_pred_test))"
   ]
  },
  {
   "cell_type": "code",
   "execution_count": 9,
   "metadata": {},
   "outputs": [
    {
     "data": {
      "text/plain": [
       "[('Age > 6.5 and Fare <= 116.63749694824219 and Fare > 10.816650390625',\n",
       "  (0.640625, 0.5394736842105263, 0.5569620253164558, 0.43137254901960786, 1)),\n",
       " ('Age > 6.5 and Fare <= 31.137500762939453',\n",
       "  (0.484375,\n",
       "   0.33695652173913043,\n",
       "   0.22784810126582278,\n",
       "   0.16071428571428573,\n",
       "   1)),\n",
       " ('Age > 29.0 and Fare > 60.38960266113281',\n",
       "  (0.21875, 0.7368421052631579, 0.9367088607594937, 0.5736434108527132, 1)),\n",
       " ('Age <= 29.0 and Fare > 60.38960266113281',\n",
       "  (0.125, 0.6153846153846154, 0.9367088607594937, 0.5481481481481482, 1)),\n",
       " ('Age <= 6.5 and Fare <= 116.63749694824219 and Fare > 10.816650390625',\n",
       "  (0.109375, 0.7, 0.9620253164556962, 0.5588235294117647, 1)),\n",
       " ('Age <= 30.75 and Fare <= 10.816650390625',\n",
       "  (0.109375, 0.22580645161290322, 0.6962025316455696, 0.40441176470588236, 1)),\n",
       " ('Age <= 6.5 and Fare <= 26.950000762939453',\n",
       "  (0.09375, 1.0, 1.0, 0.5766423357664233, 1)),\n",
       " ('Fare > 143.59164428710938',\n",
       "  (0.078125, 0.5555555555555556, 0.9493670886075949, 0.5434782608695652, 1)),\n",
       " ('Fare <= 143.59164428710938 and Fare > 116.63749694824219',\n",
       "  (0.03125, 1.0, 1.0, 0.5602836879432624, 1)),\n",
       " ('Age > 43.5 and Fare <= 10.816650390625',\n",
       "  (0.03125, 0.4, 0.9620253164556962, 0.5390070921985816, 1)),\n",
       " ('Fare <= 60.38960266113281 and Fare > 52.82709884643555',\n",
       "  (0.03125, 1.0, 1.0, 0.5602836879432624, 1)),\n",
       " ('Age <= 6.5 and Fare <= 48.29999923706055 and Fare > 26.950000762939453',\n",
       "  (0.03125, 0.4, 0.9620253164556962, 0.5390070921985816, 1)),\n",
       " ('Fare <= 52.82709884643555 and Fare > 48.29999923706055',\n",
       "  (0.015625, 0.3333333333333333, 0.9746835443037974, 0.5422535211267606, 1)),\n",
       " ('Age <= 43.5 and Age > 32.5 and Fare <= 10.816650390625',\n",
       "  (0.0, 0.0, 0.8987341772151899, 0.4965034965034965, 1)),\n",
       " ('Age <= 32.5 and Age > 30.75 and Fare <= 10.816650390625',\n",
       "  (0.0, 0.0, 0.9746835443037974, 0.5384615384615384, 1)),\n",
       " ('Age > 6.5 and Fare <= 48.29999923706055 and Fare > 31.137500762939453',\n",
       "  (0.0, 0.0, 0.9620253164556962, 0.5314685314685315, 1))]"
      ]
     },
     "execution_count": 9,
     "metadata": {},
     "output_type": "execute_result"
    }
   ],
   "source": [
    "rule_extract(model_RF_clf,X_test,y_test)"
   ]
  },
  {
   "cell_type": "markdown",
   "metadata": {},
   "source": [
    "## BaggingClassifier"
   ]
  },
  {
   "cell_type": "code",
   "execution_count": 10,
   "metadata": {},
   "outputs": [
    {
     "data": {
      "text/plain": [
       "BaggingClassifier(base_estimator=DecisionTreeClassifier(class_weight=None, criterion='gini', max_depth=3,\n",
       "            max_features=None, max_leaf_nodes=None,\n",
       "            min_impurity_split=1e-07, min_samples_leaf=1,\n",
       "            min_samples_split=2, min_weight_fraction_leaf=0.0,\n",
       "            presort=False, random_state=None, splitter='best'),\n",
       "         bootstrap=True, bootstrap_features=False, max_features=1.0,\n",
       "         max_samples=1.0, n_estimators=2, n_jobs=-1, oob_score=False,\n",
       "         random_state=0, verbose=0, warm_start=False)"
      ]
     },
     "execution_count": 10,
     "metadata": {},
     "output_type": "execute_result"
    }
   ],
   "source": [
    "model_bagging_clf = ensemble.BaggingClassifier(\n",
    "                base_estimator=tree.DecisionTreeClassifier(max_depth=3),\n",
    "                n_estimators=2,\n",
    "                n_jobs=-1,\n",
    "                random_state=0)\n",
    "model_bagging_clf.fit(X_train,y_train)"
   ]
  },
  {
   "cell_type": "code",
   "execution_count": 11,
   "metadata": {},
   "outputs": [
    {
     "name": "stdout",
     "output_type": "stream",
     "text": [
      "[[73  6]\n",
      " [41 23]]\n"
     ]
    }
   ],
   "source": [
    "# model performance on test set\n",
    "y_pred_test = model_bagging_clf.predict(X_test)\n",
    "print(metrics.confusion_matrix(y_test,y_pred_test))"
   ]
  },
  {
   "cell_type": "code",
   "execution_count": 12,
   "metadata": {},
   "outputs": [
    {
     "name": "stderr",
     "output_type": "stream",
     "text": [
      "D:\\MyCode\\Rule_Extraction_from_Trees\\rule_extraction.py:143: UserWarning: rule Fare <= 51.931251525878906 and Fare > 10.824999809265137 and Fare > 44.239601135253906 reach no samples\n",
      "  warn(\"rule %s reach no samples\" % str(rule))\n"
     ]
    },
    {
     "data": {
      "text/plain": [
       "[('Fare <= 44.239601135253906 and Fare > 10.824999809265137',\n",
       "  (0.46875, 0.5, 0.620253164556962, 0.4336283185840708, 1)),\n",
       " ('Fare <= 82.66455078125 and Fare > 19.856250762939453',\n",
       "  (0.40625, 0.5306122448979592, 0.7088607594936709, 0.47863247863247865, 1)),\n",
       " ('Age <= 44.5 and Age > 1.5 and Fare <= 18.375',\n",
       "  (0.265625, 0.265625, 0.40506329113924056, 0.25396825396825395, 1)),\n",
       " ('Age <= 45.0 and Age > 25.5 and Fare > 51.931251525878906',\n",
       "  (0.203125, 0.8125, 0.9620253164556962, 0.5846153846153846, 1)),\n",
       " ('Age > 16.5 and Fare <= 10.824999809265137',\n",
       "  (0.125, 0.17777777777777778, 0.5316455696202531, 0.3111111111111111, 1)),\n",
       " ('Age > 27.0 and Fare > 82.66455078125',\n",
       "  (0.125, 0.7272727272727273, 0.9620253164556962, 0.562962962962963, 1)),\n",
       " ('Age > 45.0 and Fare > 51.931251525878906',\n",
       "  (0.078125, 0.5, 0.9367088607594937, 0.5362318840579711, 1)),\n",
       " ('Age <= 25.5 and Age > 17.5 and Fare > 51.931251525878906',\n",
       "  (0.078125, 0.625, 0.9620253164556962, 0.5507246376811594, 1)),\n",
       " ('Age <= 27.0 and Fare > 82.66455078125',\n",
       "  (0.0625, 0.6666666666666666, 0.9746835443037974, 0.5539568345323741, 1)),\n",
       " ('Fare <= 19.856250762939453 and Fare > 18.375',\n",
       "  (0.0625, 1.0, 1.0, 0.5683453237410072, 1)),\n",
       " ('Age > 44.5 and Fare <= 18.375',\n",
       "  (0.0625, 0.5, 0.9493670886075949, 0.539568345323741, 1)),\n",
       " ('Age <= 17.5 and Fare > 51.931251525878906',\n",
       "  (0.03125, 0.6666666666666666, 0.9873417721518988, 0.5531914893617021, 1)),\n",
       " ('Age <= 16.5 and Fare <= 10.824999809265137',\n",
       "  (0.015625, 1.0, 1.0, 0.5563380281690141, 1)),\n",
       " ('Age <= 1.5 and Fare <= 18.375',\n",
       "  (0.015625, 1.0, 1.0, 0.5563380281690141, 1)),\n",
       " ('Fare <= 51.931251525878906 and Fare > 44.239601135253906',\n",
       "  (0.0, 0.0, 0.0, 0.0, 1))]"
      ]
     },
     "execution_count": 12,
     "metadata": {},
     "output_type": "execute_result"
    }
   ],
   "source": [
    "rule_extract(model_bagging_clf,X_test,y_test)"
   ]
  },
  {
   "cell_type": "markdown",
   "metadata": {},
   "source": [
    "## 极端随机树"
   ]
  },
  {
   "cell_type": "code",
   "execution_count": 13,
   "metadata": {},
   "outputs": [
    {
     "data": {
      "text/plain": [
       "ExtraTreesClassifier(bootstrap=False, class_weight=None, criterion='gini',\n",
       "           max_depth=3, max_features='auto', max_leaf_nodes=None,\n",
       "           min_impurity_split=1e-07, min_samples_leaf=1,\n",
       "           min_samples_split=2, min_weight_fraction_leaf=0.0,\n",
       "           n_estimators=2, n_jobs=1, oob_score=False, random_state=None,\n",
       "           verbose=0, warm_start=False)"
      ]
     },
     "execution_count": 13,
     "metadata": {},
     "output_type": "execute_result"
    }
   ],
   "source": [
    "model_extratree_clf = ensemble.ExtraTreesClassifier(max_depth=3,n_estimators=2)\n",
    "model_extratree_clf.fit(X_train,y_train)"
   ]
  },
  {
   "cell_type": "code",
   "execution_count": 14,
   "metadata": {},
   "outputs": [
    {
     "name": "stdout",
     "output_type": "stream",
     "text": [
      "[[75  4]\n",
      " [58  6]]\n"
     ]
    }
   ],
   "source": [
    "# model performance on test set\n",
    "y_pred_test = model_extratree_clf.predict(X_test)\n",
    "print(metrics.confusion_matrix(y_test,y_pred_test))"
   ]
  },
  {
   "cell_type": "code",
   "execution_count": 15,
   "metadata": {},
   "outputs": [
    {
     "name": "stderr",
     "output_type": "stream",
     "text": [
      "D:\\MyCode\\Rule_Extraction_from_Trees\\rule_extraction.py:143: UserWarning: rule Fare <= 128.86898411733532 and Age > 72.25456073751852 and Age <= 74.47146435662707 reach no samples\n",
      "  warn(\"rule %s reach no samples\" % str(rule))\n",
      "D:\\MyCode\\Rule_Extraction_from_Trees\\rule_extraction.py:143: UserWarning: rule Fare <= 128.86898411733532 and Age > 72.25456073751852 and Age > 74.47146435662707 reach no samples\n",
      "  warn(\"rule %s reach no samples\" % str(rule))\n",
      "D:\\MyCode\\Rule_Extraction_from_Trees\\rule_extraction.py:143: UserWarning: rule Fare > 128.86898411733532 and Fare > 444.0385812779945 reach no samples\n",
      "  warn(\"rule %s reach no samples\" % str(rule))\n",
      "D:\\MyCode\\Rule_Extraction_from_Trees\\rule_extraction.py:143: UserWarning: rule Fare <= 448.03098606177304 and Age > 56.77933858288455 and Fare <= 10.114682476716649 reach no samples\n",
      "  warn(\"rule %s reach no samples\" % str(rule))\n",
      "D:\\MyCode\\Rule_Extraction_from_Trees\\rule_extraction.py:143: UserWarning: rule Fare > 448.03098606177304 reach no samples\n",
      "  warn(\"rule %s reach no samples\" % str(rule))\n"
     ]
    },
    {
     "data": {
      "text/plain": [
       "[('Age <= 40.01392810243131 and Fare <= 448.03098606177304',\n",
       "  (0.8125, 0.45217391304347826, 0.20253164556962022, 0.17582417582417584, 1)),\n",
       " ('Age <= 72.25456073751852 and Age > 11.725676720469133 and Fare <= 128.86898411733532',\n",
       "  (0.78125, 0.4132231404958678, 0.10126582278481011, 0.08602150537634409, 1)),\n",
       " ('Age <= 11.725676720469133 and Fare <= 128.86898411733532',\n",
       "  (0.125, 0.6666666666666666, 0.9493670886075949, 0.5555555555555556, 1)),\n",
       " ('Age <= 56.77933858288455 and Age > 40.01392810243131 and Fare <= 448.03098606177304',\n",
       "  (0.109375, 0.3888888888888889, 0.8607594936708861, 0.5, 1)),\n",
       " ('Fare <= 212.73718875609006 and Fare > 128.86898411733532',\n",
       "  (0.09375, 0.6666666666666666, 0.9620253164556962, 0.5547445255474452, 1)),\n",
       " ('Age > 56.77933858288455 and Fare <= 448.03098606177304 and Fare > 10.114682476716649',\n",
       "  (0.078125, 0.5, 0.9367088607594937, 0.5362318840579711, 1)),\n",
       " ('Age <= 74.47146435662707 and Age > 72.25456073751852 and Fare <= 128.86898411733532',\n",
       "  (0.0, 0.0, 0.0, 0.0, 1)),\n",
       " ('Age > 74.47146435662707 and Fare <= 128.86898411733532',\n",
       "  (0.0, 0.0, 0.0, 0.0, 1)),\n",
       " ('Fare > 444.0385812779945', (0.0, 0.0, 0.0, 0.0, 1)),\n",
       " ('Fare <= 444.0385812779945 and Fare > 212.73718875609006',\n",
       "  (0.0, 0.0, 0.9873417721518988, 0.5454545454545454, 1)),\n",
       " ('Age > 56.77933858288455 and Fare <= 10.114682476716649',\n",
       "  (0.0, 0.0, 0.0, 0.0, 1)),\n",
       " ('Fare > 448.03098606177304', (0.0, 0.0, 0.0, 0.0, 1))]"
      ]
     },
     "execution_count": 15,
     "metadata": {},
     "output_type": "execute_result"
    }
   ],
   "source": [
    "rule_extract(model_extratree_clf,X_test,y_test)"
   ]
  },
  {
   "cell_type": "code",
   "execution_count": null,
   "metadata": {
    "collapsed": true
   },
   "outputs": [],
   "source": []
  }
 ],
 "metadata": {
  "kernelspec": {
   "display_name": "Python 3",
   "language": "python",
   "name": "python3"
  },
  "language_info": {
   "codemirror_mode": {
    "name": "ipython",
    "version": 3
   },
   "file_extension": ".py",
   "mimetype": "text/x-python",
   "name": "python",
   "nbconvert_exporter": "python",
   "pygments_lexer": "ipython3",
   "version": "3.6.1"
  }
 },
 "nbformat": 4,
 "nbformat_minor": 2
}
