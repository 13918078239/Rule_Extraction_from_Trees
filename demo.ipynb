{
 "cells": [
  {
   "cell_type": "code",
   "execution_count": 1,
   "metadata": {},
   "outputs": [],
   "source": [
    "import pandas as pd\n",
    "import numpy as np\n",
    "from sklearn.model_selection import train_test_split\n",
    "from sklearn import tree,ensemble,metrics\n",
    "\n",
    "from rule import Rule\n",
    "from rule_extraction import rule_extract"
   ]
  },
  {
   "cell_type": "markdown",
   "metadata": {},
   "source": [
    "## 数据准备"
   ]
  },
  {
   "cell_type": "code",
   "execution_count": 2,
   "metadata": {},
   "outputs": [
    {
     "name": "stdout",
     "output_type": "stream",
     "text": [
      "(571, 2) (143, 2)\n"
     ]
    }
   ],
   "source": [
    "# fetch dataset\n",
    "data = pd.read_csv('./dataset/titanic.csv', usecols = ['Age', 'Fare', 'Survived'])\n",
    "\n",
    "# drop NA records since most Tree algorithm cannot handle\n",
    "data.dropna(inplace=True)\n",
    "\n",
    "# split training/test sets\n",
    "X_train, X_test, y_train, y_test = train_test_split(data[['Age', 'Fare']], data.Survived, test_size=0.2, random_state=0)\n",
    "\n",
    "# dataset shape\n",
    "print(X_train.shape, X_test.shape)\n"
   ]
  },
  {
   "cell_type": "markdown",
   "metadata": {},
   "source": [
    "## 单颗决策树"
   ]
  },
  {
   "cell_type": "code",
   "execution_count": 3,
   "metadata": {},
   "outputs": [
    {
     "data": {
      "text/plain": [
       "DecisionTreeClassifier(class_weight=None, criterion='gini', max_depth=3,\n",
       "            max_features=None, max_leaf_nodes=None,\n",
       "            min_impurity_split=1e-07, min_samples_leaf=1,\n",
       "            min_samples_split=2, min_weight_fraction_leaf=0.0,\n",
       "            presort=False, random_state=None, splitter='best')"
      ]
     },
     "execution_count": 3,
     "metadata": {},
     "output_type": "execute_result"
    }
   ],
   "source": [
    "# 单颗决策树模型\n",
    "# 模型API参考 http://scikit-learn.org/stable/modules/generated/sklearn.tree.DecisionTreeClassifier.html\n",
    "\n",
    "model_tree_clf = tree.DecisionTreeClassifier(criterion='gini',max_depth=3)\n",
    "model_tree_clf.fit(X_train,y_train)"
   ]
  },
  {
   "cell_type": "code",
   "execution_count": 4,
   "metadata": {},
   "outputs": [
    {
     "name": "stdout",
     "output_type": "stream",
     "text": [
      "[[67 12]\n",
      " [33 31]]\n"
     ]
    }
   ],
   "source": [
    "# model performance on test set\n",
    "y_pred_test = model_tree_clf.predict(X_test)\n",
    "print(metrics.confusion_matrix(y_test,y_pred_test))"
   ]
  },
  {
   "cell_type": "code",
   "execution_count": 5,
   "metadata": {},
   "outputs": [
    {
     "data": {
      "text/plain": [
       "[('Age > 8.5 and Fare <= 51.931251525878906 and Fare > 10.335399627685547',\n",
       "  ('recall for class 1 is: 0.40625',\n",
       "   'prec for class 1 is: 0.4727272727272727',\n",
       "   'recall for class 0 is: 0.6329113924050633',\n",
       "   'prec for class 0 is: 0.42735042735042733')),\n",
       " ('Age > 29.5 and Fare > 51.931251525878906',\n",
       "  ('recall for class 1 is: 0.25',\n",
       "   'prec for class 1 is: 0.6956521739130435',\n",
       "   'recall for class 0 is: 0.9113924050632911',\n",
       "   'prec for class 0 is: 0.5669291338582677')),\n",
       " ('Age <= 29.5 and Age > 17.5 and Fare > 51.931251525878906',\n",
       "  ('recall for class 1 is: 0.109375',\n",
       "   'prec for class 1 is: 0.6363636363636364',\n",
       "   'recall for class 0 is: 0.9493670886075949',\n",
       "   'prec for class 0 is: 0.5514705882352942')),\n",
       " ('Age <= 8.5 and Fare <= 27.825000762939453',\n",
       "  ('recall for class 1 is: 0.09375',\n",
       "   'prec for class 1 is: 1.0',\n",
       "   'recall for class 0 is: 1.0',\n",
       "   'prec for class 0 is: 0.5766423357664233')),\n",
       " ('Age > 8.5 and Fare <= 10.335399627685547',\n",
       "  ('recall for class 1 is: 0.078125',\n",
       "   'prec for class 1 is: 0.1282051282051282',\n",
       "   'recall for class 0 is: 0.5696202531645569',\n",
       "   'prec for class 0 is: 0.32608695652173914')),\n",
       " ('Age <= 17.5 and Fare > 51.931251525878906',\n",
       "  ('recall for class 1 is: 0.03125',\n",
       "   'prec for class 1 is: 0.6666666666666666',\n",
       "   'recall for class 0 is: 0.9873417721518988',\n",
       "   'prec for class 0 is: 0.5531914893617021')),\n",
       " ('Age <= 8.5 and Fare <= 51.931251525878906 and Fare > 27.825000762939453',\n",
       "  ('recall for class 1 is: 0.03125',\n",
       "   'prec for class 1 is: 0.3333333333333333',\n",
       "   'recall for class 0 is: 0.9493670886075949',\n",
       "   'prec for class 0 is: 0.5319148936170213'))]"
      ]
     },
     "execution_count": 5,
     "metadata": {},
     "output_type": "execute_result"
    }
   ],
   "source": [
    "rule_extract(model_tree_clf,X_test,y_test)"
   ]
  },
  {
   "cell_type": "markdown",
   "metadata": {},
   "source": [
    "## 随机森林"
   ]
  },
  {
   "cell_type": "code",
   "execution_count": 6,
   "metadata": {},
   "outputs": [
    {
     "data": {
      "text/plain": [
       "RandomForestClassifier(bootstrap=True, class_weight=None, criterion='gini',\n",
       "            max_depth=3, max_features='auto', max_leaf_nodes=None,\n",
       "            min_impurity_split=1e-07, min_samples_leaf=1,\n",
       "            min_samples_split=2, min_weight_fraction_leaf=0.0,\n",
       "            n_estimators=2, n_jobs=1, oob_score=False, random_state=None,\n",
       "            verbose=0, warm_start=False)"
      ]
     },
     "execution_count": 6,
     "metadata": {},
     "output_type": "execute_result"
    }
   ],
   "source": [
    "model_RF_clf = ensemble.RandomForestClassifier(max_depth=3,n_estimators=2)\n",
    "model_RF_clf.fit(X_train,y_train)"
   ]
  },
  {
   "cell_type": "code",
   "execution_count": 7,
   "metadata": {},
   "outputs": [
    {
     "name": "stdout",
     "output_type": "stream",
     "text": [
      "[[68 11]\n",
      " [40 24]]\n"
     ]
    }
   ],
   "source": [
    "# model performance on test set\n",
    "y_pred_test = model_RF_clf.predict(X_test)\n",
    "print(metrics.confusion_matrix(y_test,y_pred_test))"
   ]
  },
  {
   "cell_type": "code",
   "execution_count": 8,
   "metadata": {},
   "outputs": [
    {
     "data": {
      "text/plain": [
       "[('Fare <= 56.197898864746094 and Fare > 9.416650772094727',\n",
       "  ('recall for class 1 is: 0.5625',\n",
       "   'prec for class 1 is: 0.4864864864864865',\n",
       "   'recall for class 0 is: 0.5189873417721519',\n",
       "   'prec for class 0 is: 0.38317757009345793')),\n",
       " ('Fare > 56.197898864746094',\n",
       "  ('recall for class 1 is: 0.359375',\n",
       "   'prec for class 1 is: 0.696969696969697',\n",
       "   'recall for class 0 is: 0.8734177215189873',\n",
       "   'prec for class 0 is: 0.575')),\n",
       " ('Fare <= 15.625 and Fare > 7.227099895477295',\n",
       "  ('recall for class 1 is: 0.296875',\n",
       "   'prec for class 1 is: 0.30158730158730157',\n",
       "   'recall for class 0 is: 0.44303797468354433',\n",
       "   'prec for class 0 is: 0.28225806451612906')),\n",
       " ('Fare > 75.1146011352539',\n",
       "  ('recall for class 1 is: 0.28125',\n",
       "   'prec for class 1 is: 0.72',\n",
       "   'recall for class 0 is: 0.9113924050632911',\n",
       "   'prec for class 0 is: 0.576')),\n",
       " ('Fare <= 48.20000076293945 and Fare > 16.0',\n",
       "  ('recall for class 1 is: 0.28125',\n",
       "   'prec for class 1 is: 0.5294117647058824',\n",
       "   'recall for class 0 is: 0.7974683544303798',\n",
       "   'prec for class 0 is: 0.504')),\n",
       " ('Fare <= 75.1146011352539 and Fare > 59.57709884643555',\n",
       "  ('recall for class 1 is: 0.0625',\n",
       "   'prec for class 1 is: 0.5714285714285714',\n",
       "   'recall for class 0 is: 0.9620253164556962',\n",
       "   'prec for class 0 is: 0.5467625899280576')),\n",
       " ('Age > 13.5 and Fare <= 9.287500381469727',\n",
       "  ('recall for class 1 is: 0.0625',\n",
       "   'prec for class 1 is: 0.11764705882352941',\n",
       "   'recall for class 0 is: 0.620253164556962',\n",
       "   'prec for class 0 is: 0.35251798561151076')),\n",
       " ('Age <= 62.0 and Fare <= 55.67085266113281 and Fare > 48.20000076293945',\n",
       "  ('recall for class 1 is: 0.03125',\n",
       "   'prec for class 1 is: 0.5',\n",
       "   'recall for class 0 is: 0.9746835443037974',\n",
       "   'prec for class 0 is: 0.5460992907801419')),\n",
       " ('Fare <= 16.0 and Fare > 15.625',\n",
       "  ('recall for class 1 is: 0.03125',\n",
       "   'prec for class 1 is: 0.6666666666666666',\n",
       "   'recall for class 0 is: 0.9873417721518988',\n",
       "   'prec for class 0 is: 0.5531914893617021')),\n",
       " ('Fare <= 59.57709884643555 and Fare > 56.197898864746094',\n",
       "  ('recall for class 1 is: 0.015625',\n",
       "   'prec for class 1 is: 1.0',\n",
       "   'recall for class 0 is: 1.0',\n",
       "   'prec for class 0 is: 0.5563380281690141')),\n",
       " ('Age <= 13.5 and Fare <= 9.287500381469727',\n",
       "  ('recall for class 1 is: 0.015625',\n",
       "   'prec for class 1 is: 1.0',\n",
       "   'recall for class 0 is: 1.0',\n",
       "   'prec for class 0 is: 0.5563380281690141')),\n",
       " ('Fare <= 9.416650772094727 and Fare > 9.287500381469727',\n",
       "  ('recall for class 1 is: 0.0',\n",
       "   'prec for class 1 is: 0.0',\n",
       "   'recall for class 0 is: 0.9873417721518988',\n",
       "   'prec for class 0 is: 0.5454545454545454')),\n",
       " ('Age > 62.0 and Fare <= 55.67085266113281 and Fare > 48.20000076293945',\n",
       "  ('recall for class 1 is: 0.0',\n",
       "   'prec for class 1 is: nan',\n",
       "   'recall for class 0 is: 1.0',\n",
       "   'prec for class 0 is: 0.5524475524475524')),\n",
       " ('Fare <= 7.227099895477295',\n",
       "  ('recall for class 1 is: 0.0',\n",
       "   'prec for class 1 is: 0.0',\n",
       "   'recall for class 0 is: 0.9240506329113924',\n",
       "   'prec for class 0 is: 0.5104895104895105')),\n",
       " ('Fare <= 56.197898864746094 and Fare > 55.67085266113281',\n",
       "  ('recall for class 1 is: 0.0',\n",
       "   'prec for class 1 is: nan',\n",
       "   'recall for class 0 is: 1.0',\n",
       "   'prec for class 0 is: 0.5524475524475524'))]"
      ]
     },
     "execution_count": 8,
     "metadata": {},
     "output_type": "execute_result"
    }
   ],
   "source": [
    "rule_extract(model_RF_clf,X_test,y_test)"
   ]
  },
  {
   "cell_type": "markdown",
   "metadata": {},
   "source": [
    "## BaggingClassifier"
   ]
  },
  {
   "cell_type": "code",
   "execution_count": 9,
   "metadata": {},
   "outputs": [
    {
     "data": {
      "text/plain": [
       "BaggingClassifier(base_estimator=DecisionTreeClassifier(class_weight=None, criterion='gini', max_depth=3,\n",
       "            max_features=None, max_leaf_nodes=None,\n",
       "            min_impurity_split=1e-07, min_samples_leaf=1,\n",
       "            min_samples_split=2, min_weight_fraction_leaf=0.0,\n",
       "            presort=False, random_state=None, splitter='best'),\n",
       "         bootstrap=True, bootstrap_features=False, max_features=1.0,\n",
       "         max_samples=1.0, n_estimators=2, n_jobs=-1, oob_score=False,\n",
       "         random_state=0, verbose=0, warm_start=False)"
      ]
     },
     "execution_count": 9,
     "metadata": {},
     "output_type": "execute_result"
    }
   ],
   "source": [
    "model_bagging_clf = ensemble.BaggingClassifier(\n",
    "                base_estimator=tree.DecisionTreeClassifier(max_depth=3),\n",
    "                n_estimators=2,\n",
    "                n_jobs=-1,\n",
    "                random_state=0)\n",
    "model_bagging_clf.fit(X_train,y_train)"
   ]
  },
  {
   "cell_type": "code",
   "execution_count": 10,
   "metadata": {},
   "outputs": [
    {
     "name": "stdout",
     "output_type": "stream",
     "text": [
      "[[73  6]\n",
      " [41 23]]\n"
     ]
    }
   ],
   "source": [
    "# model performance on test set\n",
    "y_pred_test = model_bagging_clf.predict(X_test)\n",
    "print(metrics.confusion_matrix(y_test,y_pred_test))"
   ]
  },
  {
   "cell_type": "code",
   "execution_count": 11,
   "metadata": {},
   "outputs": [
    {
     "data": {
      "text/plain": [
       "[('Fare <= 44.239601135253906 and Fare > 10.824999809265137',\n",
       "  ('recall for class 1 is: 0.46875',\n",
       "   'prec for class 1 is: 0.5',\n",
       "   'recall for class 0 is: 0.620253164556962',\n",
       "   'prec for class 0 is: 0.4336283185840708')),\n",
       " ('Fare <= 82.66455078125 and Fare > 19.856250762939453',\n",
       "  ('recall for class 1 is: 0.40625',\n",
       "   'prec for class 1 is: 0.5306122448979592',\n",
       "   'recall for class 0 is: 0.7088607594936709',\n",
       "   'prec for class 0 is: 0.47863247863247865')),\n",
       " ('Age <= 44.5 and Age > 1.5 and Fare <= 18.375',\n",
       "  ('recall for class 1 is: 0.265625',\n",
       "   'prec for class 1 is: 0.265625',\n",
       "   'recall for class 0 is: 0.40506329113924056',\n",
       "   'prec for class 0 is: 0.25396825396825395')),\n",
       " ('Age <= 45.0 and Age > 25.5 and Fare > 51.931251525878906',\n",
       "  ('recall for class 1 is: 0.203125',\n",
       "   'prec for class 1 is: 0.8125',\n",
       "   'recall for class 0 is: 0.9620253164556962',\n",
       "   'prec for class 0 is: 0.5846153846153846')),\n",
       " ('Age > 16.5 and Fare <= 10.824999809265137',\n",
       "  ('recall for class 1 is: 0.125',\n",
       "   'prec for class 1 is: 0.17777777777777778',\n",
       "   'recall for class 0 is: 0.5316455696202531',\n",
       "   'prec for class 0 is: 0.3111111111111111')),\n",
       " ('Age > 27.0 and Fare > 82.66455078125',\n",
       "  ('recall for class 1 is: 0.125',\n",
       "   'prec for class 1 is: 0.7272727272727273',\n",
       "   'recall for class 0 is: 0.9620253164556962',\n",
       "   'prec for class 0 is: 0.562962962962963')),\n",
       " ('Age > 45.0 and Fare > 51.931251525878906',\n",
       "  ('recall for class 1 is: 0.078125',\n",
       "   'prec for class 1 is: 0.5',\n",
       "   'recall for class 0 is: 0.9367088607594937',\n",
       "   'prec for class 0 is: 0.5362318840579711')),\n",
       " ('Age <= 25.5 and Age > 17.5 and Fare > 51.931251525878906',\n",
       "  ('recall for class 1 is: 0.078125',\n",
       "   'prec for class 1 is: 0.625',\n",
       "   'recall for class 0 is: 0.9620253164556962',\n",
       "   'prec for class 0 is: 0.5507246376811594')),\n",
       " ('Fare <= 19.856250762939453 and Fare > 18.375',\n",
       "  ('recall for class 1 is: 0.0625',\n",
       "   'prec for class 1 is: 1.0',\n",
       "   'recall for class 0 is: 1.0',\n",
       "   'prec for class 0 is: 0.5683453237410072')),\n",
       " ('Age > 44.5 and Fare <= 18.375',\n",
       "  ('recall for class 1 is: 0.0625',\n",
       "   'prec for class 1 is: 0.5',\n",
       "   'recall for class 0 is: 0.9493670886075949',\n",
       "   'prec for class 0 is: 0.539568345323741')),\n",
       " ('Age <= 27.0 and Fare > 82.66455078125',\n",
       "  ('recall for class 1 is: 0.0625',\n",
       "   'prec for class 1 is: 0.6666666666666666',\n",
       "   'recall for class 0 is: 0.9746835443037974',\n",
       "   'prec for class 0 is: 0.5539568345323741')),\n",
       " ('Age <= 17.5 and Fare > 51.931251525878906',\n",
       "  ('recall for class 1 is: 0.03125',\n",
       "   'prec for class 1 is: 0.6666666666666666',\n",
       "   'recall for class 0 is: 0.9873417721518988',\n",
       "   'prec for class 0 is: 0.5531914893617021')),\n",
       " ('Age <= 16.5 and Fare <= 10.824999809265137',\n",
       "  ('recall for class 1 is: 0.015625',\n",
       "   'prec for class 1 is: 1.0',\n",
       "   'recall for class 0 is: 1.0',\n",
       "   'prec for class 0 is: 0.5563380281690141')),\n",
       " ('Age <= 1.5 and Fare <= 18.375',\n",
       "  ('recall for class 1 is: 0.015625',\n",
       "   'prec for class 1 is: 1.0',\n",
       "   'recall for class 0 is: 1.0',\n",
       "   'prec for class 0 is: 0.5563380281690141')),\n",
       " ('Fare <= 51.931251525878906 and Fare > 44.239601135253906',\n",
       "  ('recall for class 1 is: 0.0',\n",
       "   'prec for class 1 is: nan',\n",
       "   'recall for class 0 is: 1.0',\n",
       "   'prec for class 0 is: 0.5524475524475524'))]"
      ]
     },
     "execution_count": 11,
     "metadata": {},
     "output_type": "execute_result"
    }
   ],
   "source": [
    "rule_extract(model_bagging_clf,X_test,y_test)"
   ]
  },
  {
   "cell_type": "markdown",
   "metadata": {},
   "source": [
    "## 极端随机树"
   ]
  },
  {
   "cell_type": "code",
   "execution_count": 12,
   "metadata": {},
   "outputs": [
    {
     "data": {
      "text/plain": [
       "ExtraTreesClassifier(bootstrap=False, class_weight=None, criterion='gini',\n",
       "           max_depth=3, max_features='auto', max_leaf_nodes=None,\n",
       "           min_impurity_split=1e-07, min_samples_leaf=1,\n",
       "           min_samples_split=2, min_weight_fraction_leaf=0.0,\n",
       "           n_estimators=2, n_jobs=1, oob_score=False, random_state=None,\n",
       "           verbose=0, warm_start=False)"
      ]
     },
     "execution_count": 12,
     "metadata": {},
     "output_type": "execute_result"
    }
   ],
   "source": [
    "model_extratree_clf = ensemble.ExtraTreesClassifier(max_depth=3,n_estimators=2)\n",
    "model_extratree_clf.fit(X_train,y_train)"
   ]
  },
  {
   "cell_type": "code",
   "execution_count": 13,
   "metadata": {},
   "outputs": [
    {
     "name": "stdout",
     "output_type": "stream",
     "text": [
      "[[74  5]\n",
      " [56  8]]\n"
     ]
    }
   ],
   "source": [
    "# model performance on test set\n",
    "y_pred_test = model_extratree_clf.predict(X_test)\n",
    "print(metrics.confusion_matrix(y_test,y_pred_test))"
   ]
  },
  {
   "cell_type": "code",
   "execution_count": 14,
   "metadata": {},
   "outputs": [
    {
     "data": {
      "text/plain": [
       "[('Age <= 77.38182124642407 and Fare <= 105.26056261931572',\n",
       "  ('recall for class 1 is: 0.875',\n",
       "   'prec for class 1 is: 0.4307692307692308',\n",
       "   'recall for class 0 is: 0.06329113924050633',\n",
       "   'prec for class 0 is: 0.05747126436781609')),\n",
       " ('Age > 24.058929195029002 and Fare <= 185.55054721182938 and Fare > 17.874592264134076',\n",
       "  ('recall for class 1 is: 0.421875',\n",
       "   'prec for class 1 is: 0.6136363636363636',\n",
       "   'recall for class 0 is: 0.7848101265822784',\n",
       "   'prec for class 0 is: 0.5344827586206896')),\n",
       " ('Age <= 24.058929195029002 and Fare <= 185.55054721182938 and Fare > 17.874592264134076',\n",
       "  ('recall for class 1 is: 0.21875',\n",
       "   'prec for class 1 is: 0.6086956521739131',\n",
       "   'recall for class 0 is: 0.8860759493670887',\n",
       "   'prec for class 0 is: 0.5426356589147286')),\n",
       " ('Age > 23.579183918583364 and Fare <= 17.874592264134076 and Fare > 3.804449314728431',\n",
       "  ('recall for class 1 is: 0.203125',\n",
       "   'prec for class 1 is: 0.2765957446808511',\n",
       "   'recall for class 0 is: 0.5696202531645569',\n",
       "   'prec for class 0 is: 0.34615384615384615')),\n",
       " ('Age <= 21.920565476763564 and Fare <= 17.874592264134076',\n",
       "  ('recall for class 1 is: 0.125',\n",
       "   'prec for class 1 is: 0.42105263157894735',\n",
       "   'recall for class 0 is: 0.8607594936708861',\n",
       "   'prec for class 0 is: 0.5037037037037037')),\n",
       " ('Age > 35.091753492174554 and Fare <= 433.60501410720957 and Fare > 105.26056261931572',\n",
       "  ('recall for class 1 is: 0.078125',\n",
       "   'prec for class 1 is: 0.625',\n",
       "   'recall for class 0 is: 0.9620253164556962',\n",
       "   'prec for class 0 is: 0.5507246376811594')),\n",
       " ('Age <= 35.091753492174554 and Fare <= 433.60501410720957 and Fare > 105.26056261931572',\n",
       "  ('recall for class 1 is: 0.046875',\n",
       "   'prec for class 1 is: 0.6',\n",
       "   'recall for class 0 is: 0.9746835443037974',\n",
       "   'prec for class 0 is: 0.55')),\n",
       " ('Age <= 23.579183918583364 and Age > 21.920565476763564 and Fare <= 17.874592264134076',\n",
       "  ('recall for class 1 is: 0.015625',\n",
       "   'prec for class 1 is: 0.16666666666666666',\n",
       "   'recall for class 0 is: 0.9367088607594937',\n",
       "   'prec for class 0 is: 0.5211267605633803')),\n",
       " ('Fare <= 452.1032902904733 and Fare > 185.55054721182938',\n",
       "  ('recall for class 1 is: 0.015625',\n",
       "   'prec for class 1 is: 0.3333333333333333',\n",
       "   'recall for class 0 is: 0.9746835443037974',\n",
       "   'prec for class 0 is: 0.5422535211267606')),\n",
       " ('Age > 77.38182124642407 and Fare <= 105.26056261931572',\n",
       "  ('recall for class 1 is: 0.0',\n",
       "   'prec for class 1 is: nan',\n",
       "   'recall for class 0 is: 1.0',\n",
       "   'prec for class 0 is: 0.5524475524475524')),\n",
       " ('Fare > 433.60501410720957',\n",
       "  ('recall for class 1 is: 0.0',\n",
       "   'prec for class 1 is: nan',\n",
       "   'recall for class 0 is: 1.0',\n",
       "   'prec for class 0 is: 0.5524475524475524')),\n",
       " ('Fare > 452.1032902904733',\n",
       "  ('recall for class 1 is: 0.0',\n",
       "   'prec for class 1 is: nan',\n",
       "   'recall for class 0 is: 1.0',\n",
       "   'prec for class 0 is: 0.5524475524475524')),\n",
       " ('Age > 23.579183918583364 and Fare <= 3.804449314728431',\n",
       "  ('recall for class 1 is: 0.0',\n",
       "   'prec for class 1 is: 0.0',\n",
       "   'recall for class 0 is: 0.9873417721518988',\n",
       "   'prec for class 0 is: 0.5454545454545454'))]"
      ]
     },
     "execution_count": 14,
     "metadata": {},
     "output_type": "execute_result"
    }
   ],
   "source": [
    "rule_extract(model_extratree_clf,X_test,y_test)"
   ]
  },
  {
   "cell_type": "code",
   "execution_count": null,
   "metadata": {
    "collapsed": true
   },
   "outputs": [],
   "source": []
  }
 ],
 "metadata": {
  "kernelspec": {
   "display_name": "Python 3",
   "language": "python",
   "name": "python3"
  },
  "language_info": {
   "codemirror_mode": {
    "name": "ipython",
    "version": 3
   },
   "file_extension": ".py",
   "mimetype": "text/x-python",
   "name": "python",
   "nbconvert_exporter": "python",
   "pygments_lexer": "ipython3",
   "version": "3.6.1"
  }
 },
 "nbformat": 4,
 "nbformat_minor": 2
}
